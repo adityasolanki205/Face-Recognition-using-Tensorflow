{
 "cells": [
  {
   "cell_type": "code",
   "execution_count": 1,
   "metadata": {},
   "outputs": [
    {
     "name": "stderr",
     "output_type": "stream",
     "text": [
      "Using TensorFlow backend.\n"
     ]
    }
   ],
   "source": [
    "import tensorflow as tf\n",
    "import matplotlib.pyplot as plt\n",
    "import tensorflow_hub as  hub\n",
    "import tensorflow_datasets as tfds\n",
    "import  numpy as np\n",
    "\n",
    "from tensorflow.keras import layers\n",
    "from tensorflow.keras.preprocessing.image import ImageDataGenerator\n",
    "from keras.models import load_model"
   ]
  },
  {
   "cell_type": "code",
   "execution_count": 2,
   "metadata": {},
   "outputs": [],
   "source": [
    "import logging\n",
    "logger = tf.get_logger()\n",
    "logger.setLevel(logging.ERROR)"
   ]
  },
  {
   "cell_type": "code",
   "execution_count": 3,
   "metadata": {},
   "outputs": [],
   "source": [
    "Classifier = \"https://tfhub.dev/google/imagenet/inception_resnet_v2/classification/4\"\n",
    "image_res = 299"
   ]
  },
  {
   "cell_type": "code",
   "execution_count": 4,
   "metadata": {},
   "outputs": [],
   "source": [
    "model = tf.keras.Sequential([hub.KerasLayer(Classifier, input_shape=(image_res, image_res, 3)),\n",
    "                             layers.Dense(7)\n",
    "                            ])"
   ]
  },
  {
   "cell_type": "code",
   "execution_count": 5,
   "metadata": {},
   "outputs": [
    {
     "name": "stdout",
     "output_type": "stream",
     "text": [
      "Model: \"sequential\"\n",
      "_________________________________________________________________\n",
      "Layer (type)                 Output Shape              Param #   \n",
      "=================================================================\n",
      "keras_layer (KerasLayer)     (None, 1001)              55875273  \n",
      "_________________________________________________________________\n",
      "dense (Dense)                (None, 7)                 7014      \n",
      "=================================================================\n",
      "Total params: 55,882,287\n",
      "Trainable params: 7,014\n",
      "Non-trainable params: 55,875,273\n",
      "_________________________________________________________________\n"
     ]
    }
   ],
   "source": [
    "model.summary()"
   ]
  },
  {
   "cell_type": "code",
   "execution_count": 6,
   "metadata": {},
   "outputs": [],
   "source": [
    "train_image_generator      = ImageDataGenerator(rescale=1./255,\n",
    "                                                rotation_range=30,\n",
    "                                                zoom_range=0.2,\n",
    "                                                horizontal_flip=True,\n",
    "                                                width_shift_range=0.15,\n",
    "                                                height_shift_range=0.15\n",
    "                                               )  \n",
    "validation_image_generator = ImageDataGenerator(rescale=1./255)\n",
    "test_image_generator       = ImageDataGenerator(rescale=1./255)"
   ]
  },
  {
   "cell_type": "code",
   "execution_count": 7,
   "metadata": {},
   "outputs": [],
   "source": [
    "IMG_SHAPE = 299"
   ]
  },
  {
   "cell_type": "code",
   "execution_count": 8,
   "metadata": {},
   "outputs": [],
   "source": [
    "train_dir = '../data/faces/train/'\n",
    "val_dir = '../data/faces/val/'"
   ]
  },
  {
   "cell_type": "code",
   "execution_count": 9,
   "metadata": {},
   "outputs": [
    {
     "name": "stdout",
     "output_type": "stream",
     "text": [
      "Found 155 images belonging to 7 classes.\n"
     ]
    }
   ],
   "source": [
    "train_data_gen = train_image_generator.flow_from_directory(batch_size=100,\n",
    "                                                           directory=train_dir,\n",
    "                                                           shuffle=True,\n",
    "                                                           target_size=(IMG_SHAPE,IMG_SHAPE), #(150,150)\n",
    "                                                           class_mode='sparse')"
   ]
  },
  {
   "cell_type": "code",
   "execution_count": 10,
   "metadata": {},
   "outputs": [
    {
     "name": "stdout",
     "output_type": "stream",
     "text": [
      "Found 35 images belonging to 7 classes.\n"
     ]
    }
   ],
   "source": [
    "val_data_gen = validation_image_generator.flow_from_directory(batch_size=20,\n",
    "                                                              directory=val_dir,\n",
    "                                                              shuffle=False,\n",
    "                                                              target_size=(IMG_SHAPE,IMG_SHAPE), #(150,150)\n",
    "                                                              class_mode='sparse')"
   ]
  },
  {
   "cell_type": "code",
   "execution_count": 11,
   "metadata": {},
   "outputs": [],
   "source": [
    "model.compile(optimizer='adam',\n",
    "              loss=tf.keras.losses.SparseCategoricalCrossentropy(from_logits=True),\n",
    "              metrics=['accuracy'])"
   ]
  },
  {
   "cell_type": "code",
   "execution_count": 12,
   "metadata": {},
   "outputs": [
    {
     "name": "stdout",
     "output_type": "stream",
     "text": [
      "Model: \"sequential\"\n",
      "_________________________________________________________________\n",
      "Layer (type)                 Output Shape              Param #   \n",
      "=================================================================\n",
      "keras_layer (KerasLayer)     (None, 1001)              55875273  \n",
      "_________________________________________________________________\n",
      "dense (Dense)                (None, 7)                 7014      \n",
      "=================================================================\n",
      "Total params: 55,882,287\n",
      "Trainable params: 7,014\n",
      "Non-trainable params: 55,875,273\n",
      "_________________________________________________________________\n"
     ]
    }
   ],
   "source": [
    "model.summary()"
   ]
  },
  {
   "cell_type": "code",
   "execution_count": 14,
   "metadata": {
    "scrolled": true
   },
   "outputs": [
    {
     "name": "stdout",
     "output_type": "stream",
     "text": [
      "Train for 2 steps, validate for 2 steps\n",
      "Epoch 1/60\n",
      "2/2 [==============================] - 38s 19s/step - loss: 2.3483 - accuracy: 0.2323 - val_loss: 2.0480 - val_accuracy: 0.1429\n",
      "Epoch 2/60\n",
      "2/2 [==============================] - 43s 22s/step - loss: 2.1390 - accuracy: 0.2323 - val_loss: 1.9677 - val_accuracy: 0.2571\n",
      "Epoch 3/60\n",
      "2/2 [==============================] - 42s 21s/step - loss: 1.9197 - accuracy: 0.2968 - val_loss: 1.9065 - val_accuracy: 0.2857\n",
      "Epoch 4/60\n",
      "2/2 [==============================] - 41s 20s/step - loss: 1.9485 - accuracy: 0.2839 - val_loss: 1.7853 - val_accuracy: 0.3429\n",
      "Epoch 5/60\n",
      "2/2 [==============================] - 41s 21s/step - loss: 1.8062 - accuracy: 0.3355 - val_loss: 1.6681 - val_accuracy: 0.4857\n",
      "Epoch 6/60\n",
      "2/2 [==============================] - 43s 21s/step - loss: 1.6329 - accuracy: 0.4065 - val_loss: 1.5570 - val_accuracy: 0.4286\n",
      "Epoch 7/60\n",
      "2/2 [==============================] - 42s 21s/step - loss: 1.6187 - accuracy: 0.4000 - val_loss: 1.3968 - val_accuracy: 0.4571\n",
      "Epoch 8/60\n",
      "2/2 [==============================] - 42s 21s/step - loss: 1.4552 - accuracy: 0.4387 - val_loss: 1.2393 - val_accuracy: 0.4857\n",
      "Epoch 9/60\n",
      "2/2 [==============================] - 40s 20s/step - loss: 1.3672 - accuracy: 0.4387 - val_loss: 1.0884 - val_accuracy: 0.6000\n",
      "Epoch 10/60\n",
      "2/2 [==============================] - 38s 19s/step - loss: 1.1911 - accuracy: 0.5290 - val_loss: 0.9685 - val_accuracy: 0.6000\n",
      "Epoch 11/60\n",
      "2/2 [==============================] - 39s 19s/step - loss: 1.1305 - accuracy: 0.6258 - val_loss: 0.9007 - val_accuracy: 0.5714\n",
      "Epoch 12/60\n",
      "2/2 [==============================] - 39s 19s/step - loss: 1.0808 - accuracy: 0.6065 - val_loss: 0.8615 - val_accuracy: 0.6000\n",
      "Epoch 13/60\n",
      "2/2 [==============================] - 41s 21s/step - loss: 1.0845 - accuracy: 0.5742 - val_loss: 0.8391 - val_accuracy: 0.6571\n",
      "Epoch 14/60\n",
      "2/2 [==============================] - 42s 21s/step - loss: 1.1054 - accuracy: 0.5548 - val_loss: 0.8148 - val_accuracy: 0.6571\n",
      "Epoch 15/60\n",
      "2/2 [==============================] - 41s 20s/step - loss: 0.9563 - accuracy: 0.6710 - val_loss: 0.7942 - val_accuracy: 0.6857\n",
      "Epoch 16/60\n",
      "2/2 [==============================] - 44s 22s/step - loss: 0.8803 - accuracy: 0.7226 - val_loss: 0.7746 - val_accuracy: 0.6857\n",
      "Epoch 17/60\n",
      "2/2 [==============================] - 47s 23s/step - loss: 0.9367 - accuracy: 0.5871 - val_loss: 0.7540 - val_accuracy: 0.7429\n",
      "Epoch 18/60\n",
      "2/2 [==============================] - 41s 20s/step - loss: 0.8458 - accuracy: 0.7484 - val_loss: 0.7474 - val_accuracy: 0.7143\n",
      "Epoch 19/60\n",
      "2/2 [==============================] - 40s 20s/step - loss: 0.9083 - accuracy: 0.6516 - val_loss: 0.7342 - val_accuracy: 0.6571\n",
      "Epoch 20/60\n",
      "2/2 [==============================] - 43s 22s/step - loss: 0.8137 - accuracy: 0.7484 - val_loss: 0.7085 - val_accuracy: 0.6857\n",
      "Epoch 21/60\n",
      "2/2 [==============================] - 42s 21s/step - loss: 0.8557 - accuracy: 0.7097 - val_loss: 0.6710 - val_accuracy: 0.8000\n",
      "Epoch 22/60\n",
      "2/2 [==============================] - 42s 21s/step - loss: 0.8458 - accuracy: 0.6968 - val_loss: 0.6420 - val_accuracy: 0.8000\n",
      "Epoch 23/60\n",
      "2/2 [==============================] - 43s 22s/step - loss: 0.7988 - accuracy: 0.7355 - val_loss: 0.6276 - val_accuracy: 0.8000\n",
      "Epoch 24/60\n",
      "2/2 [==============================] - 43s 22s/step - loss: 0.8199 - accuracy: 0.6903 - val_loss: 0.6037 - val_accuracy: 0.8000\n",
      "Epoch 25/60\n",
      "2/2 [==============================] - 44s 22s/step - loss: 0.7717 - accuracy: 0.7419 - val_loss: 0.5820 - val_accuracy: 0.8286\n",
      "Epoch 26/60\n",
      "2/2 [==============================] - 41s 21s/step - loss: 0.7189 - accuracy: 0.7548 - val_loss: 0.5749 - val_accuracy: 0.8286\n",
      "Epoch 27/60\n",
      "2/2 [==============================] - 43s 22s/step - loss: 0.7576 - accuracy: 0.7677 - val_loss: 0.5681 - val_accuracy: 0.8571\n",
      "Epoch 28/60\n",
      "2/2 [==============================] - 40s 20s/step - loss: 0.7145 - accuracy: 0.7419 - val_loss: 0.5761 - val_accuracy: 0.8286\n",
      "Epoch 29/60\n",
      "2/2 [==============================] - 41s 21s/step - loss: 0.8438 - accuracy: 0.6516 - val_loss: 0.5761 - val_accuracy: 0.7714\n",
      "Epoch 30/60\n",
      "2/2 [==============================] - 41s 21s/step - loss: 0.7130 - accuracy: 0.7484 - val_loss: 0.5610 - val_accuracy: 0.8000\n",
      "Epoch 31/60\n",
      "2/2 [==============================] - 40s 20s/step - loss: 0.7022 - accuracy: 0.7613 - val_loss: 0.5431 - val_accuracy: 0.8000\n",
      "Epoch 32/60\n",
      "2/2 [==============================] - 43s 22s/step - loss: 0.6852 - accuracy: 0.7677 - val_loss: 0.5259 - val_accuracy: 0.8000\n",
      "Epoch 33/60\n",
      "2/2 [==============================] - 40s 20s/step - loss: 0.6443 - accuracy: 0.8129 - val_loss: 0.5255 - val_accuracy: 0.8286\n",
      "Epoch 34/60\n",
      "2/2 [==============================] - 43s 21s/step - loss: 0.6306 - accuracy: 0.8323 - val_loss: 0.5390 - val_accuracy: 0.8000\n",
      "Epoch 35/60\n",
      "2/2 [==============================] - 41s 21s/step - loss: 0.6504 - accuracy: 0.7935 - val_loss: 0.5224 - val_accuracy: 0.8000\n",
      "Epoch 36/60\n",
      "2/2 [==============================] - 43s 22s/step - loss: 0.6507 - accuracy: 0.7742 - val_loss: 0.4849 - val_accuracy: 0.8286\n",
      "Epoch 37/60\n",
      "2/2 [==============================] - 42s 21s/step - loss: 0.6782 - accuracy: 0.7677 - val_loss: 0.4567 - val_accuracy: 0.8571\n",
      "Epoch 38/60\n",
      "2/2 [==============================] - 43s 21s/step - loss: 0.6620 - accuracy: 0.7935 - val_loss: 0.4593 - val_accuracy: 0.8571\n",
      "Epoch 39/60\n",
      "2/2 [==============================] - 44s 22s/step - loss: 0.6929 - accuracy: 0.7613 - val_loss: 0.4701 - val_accuracy: 0.8571\n",
      "Epoch 40/60\n",
      "2/2 [==============================] - 43s 22s/step - loss: 0.5998 - accuracy: 0.8194 - val_loss: 0.4816 - val_accuracy: 0.8286\n",
      "Epoch 41/60\n",
      "2/2 [==============================] - 43s 21s/step - loss: 0.6548 - accuracy: 0.7806 - val_loss: 0.4908 - val_accuracy: 0.8000\n",
      "Epoch 42/60\n",
      "2/2 [==============================] - 43s 22s/step - loss: 0.6296 - accuracy: 0.8065 - val_loss: 0.5131 - val_accuracy: 0.7714\n",
      "Epoch 43/60\n",
      "2/2 [==============================] - 47s 23s/step - loss: 0.5685 - accuracy: 0.8258 - val_loss: 0.5010 - val_accuracy: 0.7714\n",
      "Epoch 44/60\n",
      "2/2 [==============================] - 44s 22s/step - loss: 0.5198 - accuracy: 0.8387 - val_loss: 0.4701 - val_accuracy: 0.8286\n",
      "Epoch 45/60\n",
      "2/2 [==============================] - 43s 21s/step - loss: 0.5701 - accuracy: 0.8387 - val_loss: 0.4507 - val_accuracy: 0.8286\n",
      "Epoch 46/60\n",
      "2/2 [==============================] - 44s 22s/step - loss: 0.5779 - accuracy: 0.8065 - val_loss: 0.4430 - val_accuracy: 0.8286\n",
      "Epoch 47/60\n",
      "2/2 [==============================] - 44s 22s/step - loss: 0.5296 - accuracy: 0.8387 - val_loss: 0.4343 - val_accuracy: 0.8857\n",
      "Epoch 48/60\n",
      "2/2 [==============================] - 45s 22s/step - loss: 0.5871 - accuracy: 0.8129 - val_loss: 0.4391 - val_accuracy: 0.8571\n",
      "Epoch 49/60\n",
      "2/2 [==============================] - 46s 23s/step - loss: 0.4705 - accuracy: 0.8581 - val_loss: 0.4440 - val_accuracy: 0.8571\n",
      "Epoch 50/60\n",
      "2/2 [==============================] - 44s 22s/step - loss: 0.5222 - accuracy: 0.8516 - val_loss: 0.4476 - val_accuracy: 0.8571\n",
      "Epoch 51/60\n",
      "2/2 [==============================] - 43s 22s/step - loss: 0.4947 - accuracy: 0.8452 - val_loss: 0.4350 - val_accuracy: 0.8571\n",
      "Epoch 52/60\n",
      "2/2 [==============================] - 42s 21s/step - loss: 0.5462 - accuracy: 0.7935 - val_loss: 0.4284 - val_accuracy: 0.8857\n",
      "Epoch 53/60\n",
      "2/2 [==============================] - 43s 22s/step - loss: 0.5636 - accuracy: 0.8065 - val_loss: 0.4199 - val_accuracy: 0.8857\n",
      "Epoch 54/60\n",
      "2/2 [==============================] - 43s 21s/step - loss: 0.5159 - accuracy: 0.8774 - val_loss: 0.4119 - val_accuracy: 0.8857\n",
      "Epoch 55/60\n",
      "2/2 [==============================] - 42s 21s/step - loss: 0.4681 - accuracy: 0.8774 - val_loss: 0.4123 - val_accuracy: 0.8857\n",
      "Epoch 56/60\n",
      "2/2 [==============================] - 44s 22s/step - loss: 0.5517 - accuracy: 0.8452 - val_loss: 0.4194 - val_accuracy: 0.8857\n",
      "Epoch 57/60\n",
      "2/2 [==============================] - 44s 22s/step - loss: 0.4741 - accuracy: 0.8645 - val_loss: 0.4210 - val_accuracy: 0.8857\n",
      "Epoch 58/60\n",
      "2/2 [==============================] - 47s 23s/step - loss: 0.4528 - accuracy: 0.8774 - val_loss: 0.4177 - val_accuracy: 0.8571\n",
      "Epoch 59/60\n"
     ]
    },
    {
     "name": "stdout",
     "output_type": "stream",
     "text": [
      "2/2 [==============================] - 41s 20s/step - loss: 0.5028 - accuracy: 0.8387 - val_loss: 0.4054 - val_accuracy: 0.8857\n",
      "Epoch 60/60\n",
      "2/2 [==============================] - 39s 20s/step - loss: 0.5357 - accuracy: 0.8323 - val_loss: 0.4043 - val_accuracy: 0.8857\n"
     ]
    }
   ],
   "source": [
    "EPOCHS = 60\n",
    "history = model.fit_generator(\n",
    "    train_data_gen,\n",
    "    steps_per_epoch=int(np.ceil(155 / float(100))),\n",
    "    epochs=EPOCHS,\n",
    "    validation_data=val_data_gen,\n",
    "    validation_steps=int(np.ceil(35 / float(20)))\n",
    ")"
   ]
  },
  {
   "cell_type": "code",
   "execution_count": 15,
   "metadata": {},
   "outputs": [],
   "source": [
    "model.save('face-recogition.h5')"
   ]
  },
  {
   "cell_type": "code",
   "execution_count": 16,
   "metadata": {},
   "outputs": [
    {
     "data": {
      "image/png": "[encoded data removed]",
      "text/plain": [
       "<Figure size 576x576 with 2 Axes>"
      ]
     },
     "metadata": {
      "needs_background": "light"
     },
     "output_type": "display_data"
    }
   ],
   "source": [
    "acc = history.history['accuracy']\n",
    "val_acc = history.history['val_accuracy']\n",
    "\n",
    "loss = history.history['loss']\n",
    "val_loss = history.history['val_loss']\n",
    "\n",
    "epochs_range = range(EPOCHS)\n",
    "\n",
    "plt.figure(figsize=(8, 8))\n",
    "plt.subplot(1, 2, 1)\n",
    "plt.plot(epochs_range, acc, label='Training Accuracy')\n",
    "plt.plot(epochs_range, val_acc, label='Validation Accuracy')\n",
    "plt.legend(loc='lower right')\n",
    "plt.title('Training and Validation Accuracy')\n",
    "\n",
    "plt.subplot(1, 2, 2)\n",
    "plt.plot(epochs_range, loss, label='Training Loss')\n",
    "plt.plot(epochs_range, val_loss, label='Validation Loss')\n",
    "plt.legend(loc='upper right')\n",
    "plt.title('Training and Validation Loss')\n",
    "plt.savefig('./foo.png')\n",
    "plt.show()"
   ]
  },
  {
   "cell_type": "code",
   "execution_count": 17,
   "metadata": {},
   "outputs": [
    {
     "name": "stdout",
     "output_type": "stream",
     "text": [
      "Model: \"sequential\"\n",
      "_________________________________________________________________\n",
      "Layer (type)                 Output Shape              Param #   \n",
      "=================================================================\n",
      "keras_layer (KerasLayer)     (None, 1001)              55875273  \n",
      "_________________________________________________________________\n",
      "dense (Dense)                (None, 7)                 7014      \n",
      "=================================================================\n",
      "Total params: 55,882,287\n",
      "Trainable params: 7,014\n",
      "Non-trainable params: 55,875,273\n",
      "_________________________________________________________________\n"
     ]
    }
   ],
   "source": [
    "#model = load_model('keras.h5')\n",
    "model = tf.keras.models.load_model('face-recogition.h\n",
    "                                   5',custom_objects={'KerasLayer':hub.KerasLayer})\n",
    "model.summary()"
   ]
  },
  {
   "cell_type": "code",
   "execution_count": 18,
   "metadata": {},
   "outputs": [
    {
     "name": "stdout",
     "output_type": "stream",
     "text": [
      "Model: \"sequential_1\"\n",
      "_________________________________________________________________\n",
      "Layer (type)                 Output Shape              Param #   \n",
      "=================================================================\n",
      "keras_layer_1 (KerasLayer)   (None, 1001)              55875273  \n",
      "_________________________________________________________________\n",
      "dense_1 (Dense)              (None, 7)                 7014      \n",
      "=================================================================\n",
      "Total params: 55,882,287\n",
      "Trainable params: 7,014\n",
      "Non-trainable params: 55,875,273\n",
      "_________________________________________________________________\n"
     ]
    }
   ],
   "source": [
    "model = tf.keras.models.load_model('face-recogition-colab.h5',custom_objects={'KerasLayer':hub.KerasLayer})\n",
    "model.summary()"
   ]
  },
  {
   "cell_type": "code",
   "execution_count": null,
   "metadata": {},
   "outputs": [],
   "source": []
  }
 ],
 "metadata": {
  "kernelspec": {
   "display_name": "Python 3",
   "language": "python",
   "name": "python3"
  },
  "language_info": {
   "codemirror_mode": {
    "name": "ipython",
    "version": 3
   },
   "file_extension": ".py",
   "mimetype": "text/x-python",
   "name": "python",
   "nbconvert_exporter": "python",
   "pygments_lexer": "ipython3",
   "version": "3.7.7"
  }
 },
 "nbformat": 4,
 "nbformat_minor": 4
}
