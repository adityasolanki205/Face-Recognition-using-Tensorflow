{
 "cells": [
  {
   "cell_type": "code",
   "execution_count": 57,
   "metadata": {},
   "outputs": [
    {
     "name": "stderr",
     "output_type": "stream",
     "text": [
      "Using TensorFlow backend.\n"
     ]
    }
   ],
   "source": [
    "import tensorflow as tf\n",
    "import matplotlib.pyplot as plt\n",
    "import tensorflow_hub as  hub\n",
    "import tensorflow_datasets as tfds\n",
    "import  numpy as np\n",
    "\n",
    "from tensorflow.keras import layers\n",
    "from tensorflow.keras.preprocessing.image import ImageDataGenerator\n",
    "from keras.models import load_model"
   ]
  },
  {
   "cell_type": "code",
   "execution_count": 4,
   "metadata": {},
   "outputs": [],
   "source": [
    "import logging\n",
    "logger = tf.get_logger()\n",
    "logger.setLevel(logging.ERROR)"
   ]
  },
  {
   "cell_type": "code",
   "execution_count": null,
   "metadata": {},
   "outputs": [],
   "source": [
    "Classifier = \"https://tfhub.dev/google/imagenet/inception_resnet_v2/classification/4\"\n",
    "image_res = 299"
   ]
  },
  {
   "cell_type": "code",
   "execution_count": 30,
   "metadata": {},
   "outputs": [],
   "source": [
    "model = tf.keras.Sequential([hub.KerasLayer(Classifier, input_shape=(image_res, image_res, 3)),\n",
    "                             layers.Dense(7)\n",
    "                            ])"
   ]
  },
  {
   "cell_type": "code",
   "execution_count": 31,
   "metadata": {},
   "outputs": [
    {
     "name": "stdout",
     "output_type": "stream",
     "text": [
      "Model: \"sequential_2\"\n",
      "_________________________________________________________________\n",
      "Layer (type)                 Output Shape              Param #   \n",
      "=================================================================\n",
      "keras_layer_2 (KerasLayer)   (None, 1001)              55875273  \n",
      "_________________________________________________________________\n",
      "dense_1 (Dense)              (None, 7)                 7014      \n",
      "=================================================================\n",
      "Total params: 55,882,287\n",
      "Trainable params: 7,014\n",
      "Non-trainable params: 55,875,273\n",
      "_________________________________________________________________\n"
     ]
    }
   ],
   "source": [
    "model.summary()"
   ]
  },
  {
   "cell_type": "code",
   "execution_count": 12,
   "metadata": {},
   "outputs": [],
   "source": [
    "train_image_generator      = ImageDataGenerator(rescale=1./255)  \n",
    "validation_image_generator = ImageDataGenerator(rescale=1./255)\n",
    "test_image_generator       = ImageDataGenerator(rescale=1./255)"
   ]
  },
  {
   "cell_type": "code",
   "execution_count": 13,
   "metadata": {},
   "outputs": [],
   "source": [
    "IMG_SHAPE = 299"
   ]
  },
  {
   "cell_type": "code",
   "execution_count": 14,
   "metadata": {},
   "outputs": [],
   "source": [
    "train_dir = '../data/faces/train/'\n",
    "val_dir = '../data/faces/val/'"
   ]
  },
  {
   "cell_type": "code",
   "execution_count": 39,
   "metadata": {},
   "outputs": [
    {
     "name": "stdout",
     "output_type": "stream",
     "text": [
      "Found 155 images belonging to 7 classes.\n"
     ]
    }
   ],
   "source": [
    "train_data_gen = train_image_generator.flow_from_directory(batch_size=100,\n",
    "                                                           directory=train_dir,\n",
    "                                                           shuffle=True,\n",
    "                                                           target_size=(IMG_SHAPE,IMG_SHAPE), #(150,150)\n",
    "                                                           class_mode='binary')"
   ]
  },
  {
   "cell_type": "code",
   "execution_count": 41,
   "metadata": {},
   "outputs": [
    {
     "name": "stdout",
     "output_type": "stream",
     "text": [
      "Found 35 images belonging to 7 classes.\n"
     ]
    }
   ],
   "source": [
    "val_data_gen = validation_image_generator.flow_from_directory(batch_size=10,\n",
    "                                                              directory=val_dir,\n",
    "                                                              shuffle=False,\n",
    "                                                              target_size=(IMG_SHAPE,IMG_SHAPE), #(150,150)\n",
    "                                                              class_mode='binary')"
   ]
  },
  {
   "cell_type": "code",
   "execution_count": 42,
   "metadata": {},
   "outputs": [],
   "source": [
    "model.compile(optimizer='adam',\n",
    "              loss=tf.keras.losses.SparseCategoricalCrossentropy(from_logits=True),\n",
    "              metrics=['accuracy'])"
   ]
  },
  {
   "cell_type": "code",
   "execution_count": 43,
   "metadata": {},
   "outputs": [
    {
     "name": "stdout",
     "output_type": "stream",
     "text": [
      "Model: \"sequential_2\"\n",
      "_________________________________________________________________\n",
      "Layer (type)                 Output Shape              Param #   \n",
      "=================================================================\n",
      "keras_layer_2 (KerasLayer)   (None, 1001)              55875273  \n",
      "_________________________________________________________________\n",
      "dense_1 (Dense)              (None, 7)                 7014      \n",
      "=================================================================\n",
      "Total params: 55,882,287\n",
      "Trainable params: 7,014\n",
      "Non-trainable params: 55,875,273\n",
      "_________________________________________________________________\n"
     ]
    }
   ],
   "source": [
    "model.summary()"
   ]
  },
  {
   "cell_type": "code",
   "execution_count": 48,
   "metadata": {
    "scrolled": true
   },
   "outputs": [
    {
     "name": "stdout",
     "output_type": "stream",
     "text": [
      "Train for 2 steps, validate for 4 steps\n",
      "Epoch 1/40\n",
      "2/2 [==============================] - 13s 7s/step - loss: 0.1745 - accuracy: 1.0000 - val_loss: 0.6025 - val_accuracy: 0.7714\n",
      "Epoch 2/40\n",
      "2/2 [==============================] - 15s 8s/step - loss: 0.1640 - accuracy: 1.0000 - val_loss: 0.6006 - val_accuracy: 0.8000\n",
      "Epoch 3/40\n",
      "2/2 [==============================] - 15s 7s/step - loss: 0.1875 - accuracy: 0.9714 - val_loss: 0.5983 - val_accuracy: 0.8000\n",
      "Epoch 4/40\n",
      "2/2 [==============================] - 16s 8s/step - loss: 0.2209 - accuracy: 0.9250 - val_loss: 0.6044 - val_accuracy: 0.8000\n",
      "Epoch 5/40\n",
      "2/2 [==============================] - 16s 8s/step - loss: 0.2037 - accuracy: 0.9750 - val_loss: 0.6128 - val_accuracy: 0.8000\n",
      "Epoch 6/40\n",
      "2/2 [==============================] - 15s 8s/step - loss: 0.1892 - accuracy: 0.9500 - val_loss: 0.6280 - val_accuracy: 0.8000\n",
      "Epoch 7/40\n",
      "2/2 [==============================] - 15s 7s/step - loss: 0.2078 - accuracy: 0.9429 - val_loss: 0.6276 - val_accuracy: 0.7714\n",
      "Epoch 8/40\n",
      "2/2 [==============================] - 16s 8s/step - loss: 0.2233 - accuracy: 0.9750 - val_loss: 0.6318 - val_accuracy: 0.7429\n",
      "Epoch 9/40\n",
      "2/2 [==============================] - 16s 8s/step - loss: 0.1570 - accuracy: 1.0000 - val_loss: 0.6442 - val_accuracy: 0.7714\n",
      "Epoch 10/40\n",
      "2/2 [==============================] - 15s 8s/step - loss: 0.2198 - accuracy: 1.0000 - val_loss: 0.6308 - val_accuracy: 0.7714\n",
      "Epoch 11/40\n",
      "2/2 [==============================] - 17s 8s/step - loss: 0.1978 - accuracy: 0.9750 - val_loss: 0.6135 - val_accuracy: 0.7714\n",
      "Epoch 12/40\n",
      "2/2 [==============================] - 15s 7s/step - loss: 0.1870 - accuracy: 0.9429 - val_loss: 0.6029 - val_accuracy: 0.8286\n",
      "Epoch 13/40\n",
      "2/2 [==============================] - 16s 8s/step - loss: 0.1724 - accuracy: 0.9500 - val_loss: 0.6061 - val_accuracy: 0.8286\n",
      "Epoch 14/40\n",
      "2/2 [==============================] - 15s 7s/step - loss: 0.1813 - accuracy: 0.9714 - val_loss: 0.6099 - val_accuracy: 0.8286\n",
      "Epoch 15/40\n",
      "2/2 [==============================] - 16s 8s/step - loss: 0.1679 - accuracy: 1.0000 - val_loss: 0.6121 - val_accuracy: 0.8286\n",
      "Epoch 16/40\n",
      "2/2 [==============================] - 15s 7s/step - loss: 0.1866 - accuracy: 0.9429 - val_loss: 0.6149 - val_accuracy: 0.8286\n",
      "Epoch 17/40\n",
      "2/2 [==============================] - 16s 8s/step - loss: 0.1867 - accuracy: 0.9750 - val_loss: 0.6289 - val_accuracy: 0.7714\n",
      "Epoch 18/40\n",
      "2/2 [==============================] - 16s 8s/step - loss: 0.1799 - accuracy: 0.9750 - val_loss: 0.6359 - val_accuracy: 0.7714\n",
      "Epoch 19/40\n",
      "2/2 [==============================] - 16s 8s/step - loss: 0.1726 - accuracy: 1.0000 - val_loss: 0.6361 - val_accuracy: 0.7714\n",
      "Epoch 20/40\n",
      "2/2 [==============================] - 15s 7s/step - loss: 0.1206 - accuracy: 0.9714 - val_loss: 0.6302 - val_accuracy: 0.8000\n",
      "Epoch 21/40\n",
      "2/2 [==============================] - 15s 7s/step - loss: 0.1405 - accuracy: 1.0000 - val_loss: 0.6283 - val_accuracy: 0.8286\n",
      "Epoch 22/40\n",
      "2/2 [==============================] - 15s 7s/step - loss: 0.1390 - accuracy: 1.0000 - val_loss: 0.6267 - val_accuracy: 0.8286\n",
      "Epoch 23/40\n",
      "2/2 [==============================] - 16s 8s/step - loss: 0.1720 - accuracy: 0.9500 - val_loss: 0.6284 - val_accuracy: 0.8286\n",
      "Epoch 24/40\n",
      "2/2 [==============================] - 18s 9s/step - loss: 0.1590 - accuracy: 0.9500 - val_loss: 0.6400 - val_accuracy: 0.8286\n",
      "Epoch 25/40\n",
      "2/2 [==============================] - 17s 9s/step - loss: 0.1776 - accuracy: 0.9750 - val_loss: 0.6796 - val_accuracy: 0.7429\n",
      "Epoch 26/40\n",
      "2/2 [==============================] - 16s 8s/step - loss: 0.1402 - accuracy: 0.9750 - val_loss: 0.7346 - val_accuracy: 0.6857\n",
      "Epoch 27/40\n",
      "2/2 [==============================] - 16s 8s/step - loss: 0.1769 - accuracy: 1.0000 - val_loss: 0.7387 - val_accuracy: 0.7143\n",
      "Epoch 28/40\n",
      "2/2 [==============================] - 17s 8s/step - loss: 0.1649 - accuracy: 0.9250 - val_loss: 0.7158 - val_accuracy: 0.7143\n",
      "Epoch 29/40\n",
      "2/2 [==============================] - 16s 8s/step - loss: 0.2035 - accuracy: 0.9429 - val_loss: 0.6903 - val_accuracy: 0.7714\n",
      "Epoch 30/40\n",
      "2/2 [==============================] - 16s 8s/step - loss: 0.1760 - accuracy: 0.9500 - val_loss: 0.6802 - val_accuracy: 0.8286\n",
      "Epoch 31/40\n",
      "2/2 [==============================] - 17s 9s/step - loss: 0.1525 - accuracy: 1.0000 - val_loss: 0.6703 - val_accuracy: 0.8286\n",
      "Epoch 32/40\n",
      "2/2 [==============================] - 15s 8s/step - loss: 0.1332 - accuracy: 1.0000 - val_loss: 0.6613 - val_accuracy: 0.8286\n",
      "Epoch 33/40\n",
      "2/2 [==============================] - 16s 8s/step - loss: 0.1752 - accuracy: 0.9500 - val_loss: 0.6498 - val_accuracy: 0.8286\n",
      "Epoch 34/40\n",
      "2/2 [==============================] - 16s 8s/step - loss: 0.1155 - accuracy: 1.0000 - val_loss: 0.6542 - val_accuracy: 0.8286\n",
      "Epoch 35/40\n",
      "2/2 [==============================] - 15s 7s/step - loss: 0.0975 - accuracy: 1.0000 - val_loss: 0.6620 - val_accuracy: 0.8000\n",
      "Epoch 36/40\n",
      "2/2 [==============================] - 16s 8s/step - loss: 0.1676 - accuracy: 0.9750 - val_loss: 0.6768 - val_accuracy: 0.8000\n",
      "Epoch 37/40\n",
      "2/2 [==============================] - 16s 8s/step - loss: 0.1257 - accuracy: 1.0000 - val_loss: 0.6817 - val_accuracy: 0.8000\n",
      "Epoch 38/40\n",
      "2/2 [==============================] - 16s 8s/step - loss: 0.1192 - accuracy: 0.9750 - val_loss: 0.6916 - val_accuracy: 0.7714\n",
      "Epoch 39/40\n",
      "2/2 [==============================] - 16s 8s/step - loss: 0.1540 - accuracy: 1.0000 - val_loss: 0.6971 - val_accuracy: 0.7714\n",
      "Epoch 40/40\n",
      "2/2 [==============================] - 16s 8s/step - loss: 0.1418 - accuracy: 1.0000 - val_loss: 0.6860 - val_accuracy: 0.7714\n"
     ]
    }
   ],
   "source": [
    "EPOCHS = 40\n",
    "history = model.fit_generator(\n",
    "    train_data_gen,\n",
    "    steps_per_epoch=int(np.ceil(155 / float(100))),\n",
    "    epochs=EPOCHS,\n",
    "    validation_data=val_data_gen,\n",
    "    validation_steps=int(np.ceil(35 / float(10)))\n",
    ")"
   ]
  },
  {
   "cell_type": "code",
   "execution_count": 52,
   "metadata": {},
   "outputs": [
    {
     "data": {
      "text/plain": [
       "{'loss': [0.17454103380441666,\n",
       "  0.16396179050207138,\n",
       "  0.18715990015438624,\n",
       "  0.22088319808244705,\n",
       "  0.20371123403310776,\n",
       "  0.18920214846730232,\n",
       "  0.2088852652481624,\n",
       "  0.2233334630727768,\n",
       "  0.1570487879216671,\n",
       "  0.2197909951210022,\n",
       "  0.1977684125304222,\n",
       "  0.18898348936012813,\n",
       "  0.17235274240374565,\n",
       "  0.18294720564569747,\n",
       "  0.16791357845067978,\n",
       "  0.18941321117537363,\n",
       "  0.18672314286231995,\n",
       "  0.179890975356102,\n",
       "  0.1725592464208603,\n",
       "  0.11810258669512612,\n",
       "  0.1408958328621728,\n",
       "  0.14034897834062576,\n",
       "  0.17200499027967453,\n",
       "  0.15903884917497635,\n",
       "  0.17763236910104752,\n",
       "  0.14022038877010345,\n",
       "  0.17829852657658712,\n",
       "  0.16488118469715118,\n",
       "  0.21007218956947327,\n",
       "  0.17604421824216843,\n",
       "  0.15253669768571854,\n",
       "  0.13587257904665812,\n",
       "  0.17518429458141327,\n",
       "  0.11552349105477333,\n",
       "  0.09607491003615516,\n",
       "  0.16759845986962318,\n",
       "  0.12572023645043373,\n",
       "  0.11922162398695946,\n",
       "  0.15397727489471436,\n",
       "  0.1418107971549034],\n",
       " 'accuracy': [1.0,\n",
       "  1.0,\n",
       "  0.9714286,\n",
       "  0.925,\n",
       "  0.975,\n",
       "  0.95,\n",
       "  0.94285715,\n",
       "  0.975,\n",
       "  1.0,\n",
       "  1.0,\n",
       "  0.975,\n",
       "  0.94285715,\n",
       "  0.95,\n",
       "  0.9714286,\n",
       "  1.0,\n",
       "  0.94285715,\n",
       "  0.975,\n",
       "  0.975,\n",
       "  1.0,\n",
       "  0.9714286,\n",
       "  1.0,\n",
       "  1.0,\n",
       "  0.95,\n",
       "  0.95,\n",
       "  0.975,\n",
       "  0.975,\n",
       "  1.0,\n",
       "  0.925,\n",
       "  0.94285715,\n",
       "  0.95,\n",
       "  1.0,\n",
       "  1.0,\n",
       "  0.95,\n",
       "  1.0,\n",
       "  1.0,\n",
       "  0.975,\n",
       "  1.0,\n",
       "  0.975,\n",
       "  1.0,\n",
       "  1.0],\n",
       " 'val_loss': [0.6025155708193779,\n",
       "  0.6006089597940445,\n",
       "  0.5982537642121315,\n",
       "  0.6044416651129723,\n",
       "  0.612804226577282,\n",
       "  0.6279802620410919,\n",
       "  0.6275543421506882,\n",
       "  0.6317977607250214,\n",
       "  0.6441910564899445,\n",
       "  0.6307870671153069,\n",
       "  0.6135148629546165,\n",
       "  0.6029459312558174,\n",
       "  0.6060508266091347,\n",
       "  0.6098997890949249,\n",
       "  0.612095020711422,\n",
       "  0.6148546487092972,\n",
       "  0.6289360076189041,\n",
       "  0.6358617544174194,\n",
       "  0.6361352503299713,\n",
       "  0.6302150189876556,\n",
       "  0.6282879337668419,\n",
       "  0.6266690343618393,\n",
       "  0.628426730632782,\n",
       "  0.6399828344583511,\n",
       "  0.6795867085456848,\n",
       "  0.7345750480890274,\n",
       "  0.7386526465415955,\n",
       "  0.7158103212714195,\n",
       "  0.6902542635798454,\n",
       "  0.6801903769373894,\n",
       "  0.6703295484185219,\n",
       "  0.6612879410386086,\n",
       "  0.649775467813015,\n",
       "  0.6542098671197891,\n",
       "  0.6619885489344597,\n",
       "  0.6768250316381454,\n",
       "  0.6817173361778259,\n",
       "  0.6915979087352753,\n",
       "  0.6971315145492554,\n",
       "  0.6859670132398605],\n",
       " 'val_accuracy': [0.7714286,\n",
       "  0.8,\n",
       "  0.8,\n",
       "  0.8,\n",
       "  0.8,\n",
       "  0.8,\n",
       "  0.7714286,\n",
       "  0.74285716,\n",
       "  0.7714286,\n",
       "  0.7714286,\n",
       "  0.7714286,\n",
       "  0.82857144,\n",
       "  0.82857144,\n",
       "  0.82857144,\n",
       "  0.82857144,\n",
       "  0.82857144,\n",
       "  0.7714286,\n",
       "  0.7714286,\n",
       "  0.7714286,\n",
       "  0.8,\n",
       "  0.82857144,\n",
       "  0.82857144,\n",
       "  0.82857144,\n",
       "  0.82857144,\n",
       "  0.74285716,\n",
       "  0.6857143,\n",
       "  0.71428573,\n",
       "  0.71428573,\n",
       "  0.7714286,\n",
       "  0.82857144,\n",
       "  0.82857144,\n",
       "  0.82857144,\n",
       "  0.82857144,\n",
       "  0.82857144,\n",
       "  0.8,\n",
       "  0.8,\n",
       "  0.8,\n",
       "  0.7714286,\n",
       "  0.7714286,\n",
       "  0.7714286]}"
      ]
     },
     "execution_count": 52,
     "metadata": {},
     "output_type": "execute_result"
    }
   ],
   "source": [
    "history.history"
   ]
  },
  {
   "cell_type": "code",
   "execution_count": 49,
   "metadata": {},
   "outputs": [],
   "source": [
    "model.save('keras.h5')"
   ]
  },
  {
   "cell_type": "code",
   "execution_count": 53,
   "metadata": {},
   "outputs": [
    {
     "data": {
      "image/png": "[encoded data removed]",
      "text/plain": [
       "<Figure size 576x576 with 2 Axes>"
      ]
     },
     "metadata": {
      "needs_background": "light"
     },
     "output_type": "display_data"
    }
   ],
   "source": [
    "acc = history.history['accuracy']\n",
    "val_acc = history.history['val_accuracy']\n",
    "\n",
    "loss = history.history['loss']\n",
    "val_loss = history.history['val_loss']\n",
    "\n",
    "epochs_range = range(EPOCHS)\n",
    "\n",
    "plt.figure(figsize=(8, 8))\n",
    "plt.subplot(1, 2, 1)\n",
    "plt.plot(epochs_range, acc, label='Training Accuracy')\n",
    "plt.plot(epochs_range, val_acc, label='Validation Accuracy')\n",
    "plt.legend(loc='lower right')\n",
    "plt.title('Training and Validation Accuracy')\n",
    "\n",
    "plt.subplot(1, 2, 2)\n",
    "plt.plot(epochs_range, loss, label='Training Loss')\n",
    "plt.plot(epochs_range, val_loss, label='Validation Loss')\n",
    "plt.legend(loc='upper right')\n",
    "plt.title('Training and Validation Loss')\n",
    "plt.savefig('./foo.png')\n",
    "plt.show()"
   ]
  },
  {
   "cell_type": "code",
   "execution_count": 60,
   "metadata": {},
   "outputs": [
    {
     "name": "stdout",
     "output_type": "stream",
     "text": [
      "Model: \"sequential_2\"\n",
      "_________________________________________________________________\n",
      "Layer (type)                 Output Shape              Param #   \n",
      "=================================================================\n",
      "keras_layer_2 (KerasLayer)   (None, 1001)              55875273  \n",
      "_________________________________________________________________\n",
      "dense_1 (Dense)              (None, 7)                 7014      \n",
      "=================================================================\n",
      "Total params: 55,882,287\n",
      "Trainable params: 7,014\n",
      "Non-trainable params: 55,875,273\n",
      "_________________________________________________________________\n"
     ]
    }
   ],
   "source": [
    "#model = load_model('keras.h5')\n",
    "new_model = tf.keras.models.load_model('keras.h5',custom_objects={'KerasLayer':hub.KerasLayer})\n",
    "new_model.summary()"
   ]
  },
  {
   "cell_type": "code",
   "execution_count": null,
   "metadata": {},
   "outputs": [],
   "source": []
  }
 ],
 "metadata": {
  "kernelspec": {
   "display_name": "Python 3",
   "language": "python",
   "name": "python3"
  },
  "language_info": {
   "codemirror_mode": {
    "name": "ipython",
    "version": 3
   },
   "file_extension": ".py",
   "mimetype": "text/x-python",
   "name": "python",
   "nbconvert_exporter": "python",
   "pygments_lexer": "ipython3",
   "version": "3.7.7"
  }
 },
 "nbformat": 4,
 "nbformat_minor": 4
}
