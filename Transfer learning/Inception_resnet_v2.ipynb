{
 "cells": [
  {
   "cell_type": "code",
   "execution_count": 2,
   "metadata": {},
   "outputs": [
    {
     "name": "stderr",
     "output_type": "stream",
     "text": [
      "Using TensorFlow backend.\n"
     ]
    }
   ],
   "source": [
    "import tensorflow as tf\n",
    "import matplotlib.pyplot as plt\n",
    "import tensorflow_hub as  hub\n",
    "import tensorflow_datasets as tfds\n",
    "import  numpy as np\n",
    "\n",
    "from tensorflow.keras import layers\n",
    "from tensorflow.keras.preprocessing.image import ImageDataGenerator\n",
    "from keras.models import load_model"
   ]
  },
  {
   "cell_type": "code",
   "execution_count": 3,
   "metadata": {},
   "outputs": [],
   "source": [
    "import logging\n",
    "logger = tf.get_logger()\n",
    "logger.setLevel(logging.ERROR)"
   ]
  },
  {
   "cell_type": "code",
   "execution_count": 4,
   "metadata": {},
   "outputs": [],
   "source": [
    "Classifier = \"https://tfhub.dev/google/imagenet/inception_resnet_v2/classification/4\"\n",
    "image_res = 299\n",
    "feature_extractor = hub.KerasLayer(Classifier , input_shape=(image_res, image_res, 3))\n",
    "feature_extractor.trainable = False"
   ]
  },
  {
   "cell_type": "code",
   "execution_count": 5,
   "metadata": {},
   "outputs": [],
   "source": [
    "model = tf.keras.Sequential([feature_extractor,\n",
    "                             layers.Dense(7),\n",
    "                             layers.Activation(tf.nn.softmax)\n",
    "                            ])"
   ]
  },
  {
   "cell_type": "code",
   "execution_count": 6,
   "metadata": {},
   "outputs": [
    {
     "name": "stdout",
     "output_type": "stream",
     "text": [
      "Model: \"sequential\"\n",
      "_________________________________________________________________\n",
      "Layer (type)                 Output Shape              Param #   \n",
      "=================================================================\n",
      "keras_layer (KerasLayer)     (None, 1001)              55875273  \n",
      "_________________________________________________________________\n",
      "dense (Dense)                (None, 7)                 7014      \n",
      "=================================================================\n",
      "Total params: 55,882,287\n",
      "Trainable params: 7,014\n",
      "Non-trainable params: 55,875,273\n",
      "_________________________________________________________________\n"
     ]
    }
   ],
   "source": [
    "model.summary()"
   ]
  },
  {
   "cell_type": "code",
   "execution_count": 7,
   "metadata": {},
   "outputs": [],
   "source": [
    "train_image_generator      = ImageDataGenerator(rescale=1./255,\n",
    "                                                rotation_range=30,\n",
    "                                                zoom_range=0.2,\n",
    "                                                horizontal_flip=True,\n",
    "                                                width_shift_range=0.15,\n",
    "                                                height_shift_range=0.15\n",
    "                                               )  \n",
    "validation_image_generator = ImageDataGenerator(rescale=1./255)\n",
    "test_image_generator       = ImageDataGenerator(rescale=1./255)"
   ]
  },
  {
   "cell_type": "code",
   "execution_count": 8,
   "metadata": {},
   "outputs": [],
   "source": [
    "IMG_SHAPE = 299"
   ]
  },
  {
   "cell_type": "code",
   "execution_count": 9,
   "metadata": {},
   "outputs": [],
   "source": [
    "train_dir = '../data/faces/train/'\n",
    "val_dir = '../data/faces/val/'"
   ]
  },
  {
   "cell_type": "code",
   "execution_count": 10,
   "metadata": {},
   "outputs": [
    {
     "name": "stdout",
     "output_type": "stream",
     "text": [
      "Found 155 images belonging to 7 classes.\n"
     ]
    }
   ],
   "source": [
    "train_data_gen = train_image_generator.flow_from_directory(batch_size=100,\n",
    "                                                           directory=train_dir,\n",
    "                                                           shuffle=True,\n",
    "                                                           target_size=(IMG_SHAPE,IMG_SHAPE), #(150,150)\n",
    "                                                           class_mode='sparse')"
   ]
  },
  {
   "cell_type": "code",
   "execution_count": 11,
   "metadata": {},
   "outputs": [
    {
     "name": "stdout",
     "output_type": "stream",
     "text": [
      "Found 35 images belonging to 7 classes.\n"
     ]
    }
   ],
   "source": [
    "val_data_gen = validation_image_generator.flow_from_directory(batch_size=20,\n",
    "                                                              directory=val_dir,\n",
    "                                                              shuffle=False,\n",
    "                                                              target_size=(IMG_SHAPE,IMG_SHAPE), #(150,150)\n",
    "                                                              class_mode='sparse')"
   ]
  },
  {
   "cell_type": "code",
   "execution_count": 12,
   "metadata": {},
   "outputs": [],
   "source": [
    "model.compile(optimizer='adam',\n",
    "              loss=tf.keras.losses.SparseCategoricalCrossentropy(from_logits=True),\n",
    "              metrics=['accuracy'])"
   ]
  },
  {
   "cell_type": "code",
   "execution_count": 13,
   "metadata": {},
   "outputs": [
    {
     "name": "stdout",
     "output_type": "stream",
     "text": [
      "Model: \"sequential\"\n",
      "_________________________________________________________________\n",
      "Layer (type)                 Output Shape              Param #   \n",
      "=================================================================\n",
      "keras_layer (KerasLayer)     (None, 1001)              55875273  \n",
      "_________________________________________________________________\n",
      "dense (Dense)                (None, 7)                 7014      \n",
      "=================================================================\n",
      "Total params: 55,882,287\n",
      "Trainable params: 7,014\n",
      "Non-trainable params: 55,875,273\n",
      "_________________________________________________________________\n"
     ]
    }
   ],
   "source": [
    "model.summary()"
   ]
  },
  {
   "cell_type": "code",
   "execution_count": 14,
   "metadata": {
    "scrolled": true
   },
   "outputs": [
    {
     "name": "stdout",
     "output_type": "stream",
     "text": [
      "Train for 2 steps, validate for 2 steps\n",
      "Epoch 1/60\n",
      "2/2 [==============================] - 93s 47s/step - loss: 2.8746 - accuracy: 0.1806 - val_loss: 2.3899 - val_accuracy: 0.2000\n",
      "Epoch 2/60\n",
      "2/2 [==============================] - 58s 29s/step - loss: 2.0429 - accuracy: 0.2065 - val_loss: 1.8811 - val_accuracy: 0.2571\n",
      "Epoch 3/60\n",
      "2/2 [==============================] - 59s 30s/step - loss: 1.9560 - accuracy: 0.2839 - val_loss: 1.5913 - val_accuracy: 0.2857\n",
      "Epoch 4/60\n",
      "2/2 [==============================] - 56s 28s/step - loss: 1.8825 - accuracy: 0.2645 - val_loss: 1.3789 - val_accuracy: 0.4286\n",
      "Epoch 5/60\n",
      "2/2 [==============================] - 57s 28s/step - loss: 1.7287 - accuracy: 0.3097 - val_loss: 1.2271 - val_accuracy: 0.5429\n",
      "Epoch 6/60\n",
      "2/2 [==============================] - 58s 29s/step - loss: 1.6261 - accuracy: 0.3484 - val_loss: 1.0909 - val_accuracy: 0.6857\n",
      "Epoch 7/60\n",
      "2/2 [==============================] - 56s 28s/step - loss: 1.4544 - accuracy: 0.4000 - val_loss: 0.9931 - val_accuracy: 0.7143\n",
      "Epoch 8/60\n",
      "2/2 [==============================] - 56s 28s/step - loss: 1.3524 - accuracy: 0.5032 - val_loss: 0.9300 - val_accuracy: 0.6857\n",
      "Epoch 9/60\n",
      "2/2 [==============================] - 59s 29s/step - loss: 1.2748 - accuracy: 0.4968 - val_loss: 0.9034 - val_accuracy: 0.6571\n",
      "Epoch 10/60\n",
      "2/2 [==============================] - 55s 27s/step - loss: 1.2199 - accuracy: 0.4774 - val_loss: 0.8818 - val_accuracy: 0.6286\n",
      "Epoch 11/60\n",
      "2/2 [==============================] - 53s 27s/step - loss: 1.1208 - accuracy: 0.6194 - val_loss: 0.8475 - val_accuracy: 0.6286\n",
      "Epoch 12/60\n",
      "2/2 [==============================] - 58s 29s/step - loss: 1.1317 - accuracy: 0.5484 - val_loss: 0.7916 - val_accuracy: 0.7143\n",
      "Epoch 13/60\n",
      "2/2 [==============================] - 63s 31s/step - loss: 1.0277 - accuracy: 0.6065 - val_loss: 0.7246 - val_accuracy: 0.7429\n",
      "Epoch 14/60\n",
      "2/2 [==============================] - 62s 31s/step - loss: 0.9624 - accuracy: 0.6581 - val_loss: 0.6581 - val_accuracy: 0.7714\n",
      "Epoch 15/60\n",
      "2/2 [==============================] - 61s 31s/step - loss: 0.8888 - accuracy: 0.6581 - val_loss: 0.6069 - val_accuracy: 0.8000\n",
      "Epoch 16/60\n",
      "2/2 [==============================] - 60s 30s/step - loss: 0.9548 - accuracy: 0.6065 - val_loss: 0.5815 - val_accuracy: 0.8286\n",
      "Epoch 17/60\n",
      "2/2 [==============================] - 58s 29s/step - loss: 0.9375 - accuracy: 0.6774 - val_loss: 0.5616 - val_accuracy: 0.8286\n",
      "Epoch 18/60\n",
      "2/2 [==============================] - 58s 29s/step - loss: 0.9996 - accuracy: 0.6065 - val_loss: 0.5357 - val_accuracy: 0.8286\n",
      "Epoch 19/60\n",
      "2/2 [==============================] - 60s 30s/step - loss: 0.8546 - accuracy: 0.6839 - val_loss: 0.5301 - val_accuracy: 0.8571\n",
      "Epoch 20/60\n",
      "2/2 [==============================] - 60s 30s/step - loss: 0.7942 - accuracy: 0.7097 - val_loss: 0.5258 - val_accuracy: 0.8857\n",
      "Epoch 21/60\n",
      "2/2 [==============================] - 60s 30s/step - loss: 0.8156 - accuracy: 0.6903 - val_loss: 0.5181 - val_accuracy: 0.8857\n",
      "Epoch 22/60\n",
      "2/2 [==============================] - 57s 29s/step - loss: 0.8194 - accuracy: 0.7032 - val_loss: 0.5136 - val_accuracy: 0.8857\n",
      "Epoch 23/60\n",
      "2/2 [==============================] - 60s 30s/step - loss: 0.7671 - accuracy: 0.7548 - val_loss: 0.5149 - val_accuracy: 0.8571\n",
      "Epoch 24/60\n",
      "2/2 [==============================] - 60s 30s/step - loss: 0.7108 - accuracy: 0.7161 - val_loss: 0.5196 - val_accuracy: 0.8571\n",
      "Epoch 25/60\n",
      "2/2 [==============================] - 59s 30s/step - loss: 0.7174 - accuracy: 0.7677 - val_loss: 0.5138 - val_accuracy: 0.8571\n",
      "Epoch 26/60\n",
      "2/2 [==============================] - 60s 30s/step - loss: 0.7037 - accuracy: 0.7419 - val_loss: 0.5010 - val_accuracy: 0.8571\n",
      "Epoch 27/60\n",
      "2/2 [==============================] - 60s 30s/step - loss: 0.7169 - accuracy: 0.7613 - val_loss: 0.4842 - val_accuracy: 0.8571\n",
      "Epoch 28/60\n",
      "2/2 [==============================] - 58s 29s/step - loss: 0.6760 - accuracy: 0.7613 - val_loss: 0.4788 - val_accuracy: 0.8571\n",
      "Epoch 29/60\n",
      "2/2 [==============================] - 60s 30s/step - loss: 0.7407 - accuracy: 0.7290 - val_loss: 0.4787 - val_accuracy: 0.8857\n",
      "Epoch 30/60\n",
      "2/2 [==============================] - 60s 30s/step - loss: 0.7030 - accuracy: 0.7419 - val_loss: 0.4697 - val_accuracy: 0.8857\n",
      "Epoch 31/60\n",
      "2/2 [==============================] - 60s 30s/step - loss: 0.6286 - accuracy: 0.7742 - val_loss: 0.4595 - val_accuracy: 0.8571\n",
      "Epoch 32/60\n",
      "2/2 [==============================] - 58s 29s/step - loss: 0.6756 - accuracy: 0.7355 - val_loss: 0.4574 - val_accuracy: 0.8571\n",
      "Epoch 33/60\n",
      "2/2 [==============================] - 59s 30s/step - loss: 0.7117 - accuracy: 0.7677 - val_loss: 0.4635 - val_accuracy: 0.8571\n",
      "Epoch 34/60\n",
      "2/2 [==============================] - 60s 30s/step - loss: 0.6668 - accuracy: 0.7742 - val_loss: 0.4680 - val_accuracy: 0.8571\n",
      "Epoch 35/60\n",
      "2/2 [==============================] - 58s 29s/step - loss: 0.6234 - accuracy: 0.7419 - val_loss: 0.4635 - val_accuracy: 0.8571\n",
      "Epoch 36/60\n",
      "2/2 [==============================] - 56s 28s/step - loss: 0.5693 - accuracy: 0.7935 - val_loss: 0.4468 - val_accuracy: 0.8571\n",
      "Epoch 37/60\n",
      "2/2 [==============================] - 58s 29s/step - loss: 0.6214 - accuracy: 0.7677 - val_loss: 0.4401 - val_accuracy: 0.8571\n",
      "Epoch 38/60\n",
      "2/2 [==============================] - 123s 61s/step - loss: 0.6298 - accuracy: 0.7677 - val_loss: 0.4362 - val_accuracy: 0.8571\n",
      "Epoch 39/60\n",
      "2/2 [==============================] - 47s 23s/step - loss: 0.6110 - accuracy: 0.8065 - val_loss: 0.4328 - val_accuracy: 0.8571\n",
      "Epoch 40/60\n",
      "2/2 [==============================] - 42s 21s/step - loss: 0.5600 - accuracy: 0.8129 - val_loss: 0.4401 - val_accuracy: 0.8286\n",
      "Epoch 41/60\n",
      "2/2 [==============================] - 45s 22s/step - loss: 0.6105 - accuracy: 0.8129 - val_loss: 0.4412 - val_accuracy: 0.8286\n",
      "Epoch 42/60\n",
      "2/2 [==============================] - 48s 24s/step - loss: 0.5558 - accuracy: 0.8387 - val_loss: 0.4317 - val_accuracy: 0.8286\n",
      "Epoch 43/60\n",
      "2/2 [==============================] - 44s 22s/step - loss: 0.5223 - accuracy: 0.8710 - val_loss: 0.4240 - val_accuracy: 0.8286\n",
      "Epoch 44/60\n",
      "2/2 [==============================] - 42s 21s/step - loss: 0.5557 - accuracy: 0.8129 - val_loss: 0.4204 - val_accuracy: 0.8571\n",
      "Epoch 45/60\n",
      "2/2 [==============================] - 39s 19s/step - loss: 0.5997 - accuracy: 0.7613 - val_loss: 0.4191 - val_accuracy: 0.8571\n",
      "Epoch 46/60\n",
      "2/2 [==============================] - 40s 20s/step - loss: 0.5182 - accuracy: 0.8129 - val_loss: 0.4263 - val_accuracy: 0.8571\n",
      "Epoch 47/60\n",
      "2/2 [==============================] - 39s 19s/step - loss: 0.5829 - accuracy: 0.8000 - val_loss: 0.4432 - val_accuracy: 0.8571\n",
      "Epoch 48/60\n",
      "2/2 [==============================] - 38s 19s/step - loss: 0.4953 - accuracy: 0.8258 - val_loss: 0.4579 - val_accuracy: 0.8571\n",
      "Epoch 49/60\n",
      "2/2 [==============================] - 38s 19s/step - loss: 0.5131 - accuracy: 0.8194 - val_loss: 0.4645 - val_accuracy: 0.8286\n",
      "Epoch 50/60\n",
      "2/2 [==============================] - 38s 19s/step - loss: 0.5374 - accuracy: 0.8000 - val_loss: 0.4619 - val_accuracy: 0.8286\n",
      "Epoch 51/60\n",
      "2/2 [==============================] - 38s 19s/step - loss: 0.4809 - accuracy: 0.8258 - val_loss: 0.4446 - val_accuracy: 0.8571\n",
      "Epoch 52/60\n",
      "2/2 [==============================] - 38s 19s/step - loss: 0.5296 - accuracy: 0.8129 - val_loss: 0.4346 - val_accuracy: 0.8571\n",
      "Epoch 53/60\n",
      "2/2 [==============================] - 40s 20s/step - loss: 0.4936 - accuracy: 0.8065 - val_loss: 0.4268 - val_accuracy: 0.8571\n",
      "Epoch 54/60\n",
      "2/2 [==============================] - 38s 19s/step - loss: 0.4805 - accuracy: 0.8387 - val_loss: 0.4300 - val_accuracy: 0.8571\n",
      "Epoch 55/60\n",
      "2/2 [==============================] - 38s 19s/step - loss: 0.5280 - accuracy: 0.8065 - val_loss: 0.4384 - val_accuracy: 0.8571\n",
      "Epoch 56/60\n",
      "2/2 [==============================] - 38s 19s/step - loss: 0.5394 - accuracy: 0.8000 - val_loss: 0.4522 - val_accuracy: 0.8857\n",
      "Epoch 57/60\n",
      "2/2 [==============================] - 38s 19s/step - loss: 0.5558 - accuracy: 0.7806 - val_loss: 0.4482 - val_accuracy: 0.8857\n",
      "Epoch 58/60\n",
      "2/2 [==============================] - 38s 19s/step - loss: 0.5323 - accuracy: 0.7871 - val_loss: 0.4362 - val_accuracy: 0.8857\n",
      "Epoch 59/60\n",
      "2/2 [==============================] - 38s 19s/step - loss: 0.4900 - accuracy: 0.7871 - val_loss: 0.4180 - val_accuracy: 0.8857\n",
      "Epoch 60/60\n",
      "2/2 [==============================] - 38s 19s/step - loss: 0.4819 - accuracy: 0.8323 - val_loss: 0.4264 - val_accuracy: 0.8571\n"
     ]
    }
   ],
   "source": [
    "EPOCHS = 60\n",
    "history = model.fit_generator(\n",
    "    train_data_gen,\n",
    "    steps_per_epoch=int(np.ceil(155 / float(100))),\n",
    "    epochs=EPOCHS,\n",
    "    validation_data=val_data_gen,\n",
    "    validation_steps=int(np.ceil(35 / float(20)))\n",
    ")"
   ]
  },
  {
   "cell_type": "code",
   "execution_count": 15,
   "metadata": {},
   "outputs": [],
   "source": [
    "model.save('face-recogition.h5')"
   ]
  },
  {
   "cell_type": "code",
   "execution_count": 16,
   "metadata": {},
   "outputs": [
    {
     "data": {
      "image/png": "[encoded data removed]",
      "text/plain": [
       "<Figure size 576x576 with 2 Axes>"
      ]
     },
     "metadata": {
      "needs_background": "light"
     },
     "output_type": "display_data"
    }
   ],
   "source": [
    "acc = history.history['accuracy']\n",
    "val_acc = history.history['val_accuracy']\n",
    "\n",
    "loss = history.history['loss']\n",
    "val_loss = history.history['val_loss']\n",
    "\n",
    "epochs_range = range(EPOCHS)\n",
    "\n",
    "plt.figure(figsize=(8, 8))\n",
    "plt.subplot(1, 2, 1)\n",
    "plt.plot(epochs_range, acc, label='Training Accuracy')\n",
    "plt.plot(epochs_range, val_acc, label='Validation Accuracy')\n",
    "plt.legend(loc='lower right')\n",
    "plt.title('Training and Validation Accuracy')\n",
    "\n",
    "plt.subplot(1, 2, 2)\n",
    "plt.plot(epochs_range, loss, label='Training Loss')\n",
    "plt.plot(epochs_range, val_loss, label='Validation Loss')\n",
    "plt.legend(loc='upper right')\n",
    "plt.title('Training and Validation Loss')\n",
    "plt.savefig('./learning.png')\n",
    "plt.show()"
   ]
  },
  {
   "cell_type": "code",
   "execution_count": 19,
   "metadata": {},
   "outputs": [
    {
     "name": "stdout",
     "output_type": "stream",
     "text": [
      "Model: \"sequential\"\n",
      "_________________________________________________________________\n",
      "Layer (type)                 Output Shape              Param #   \n",
      "=================================================================\n",
      "keras_layer (KerasLayer)     (None, 1001)              55875273  \n",
      "_________________________________________________________________\n",
      "dense (Dense)                (None, 7)                 7014      \n",
      "=================================================================\n",
      "Total params: 55,882,287\n",
      "Trainable params: 7,014\n",
      "Non-trainable params: 55,875,273\n",
      "_________________________________________________________________\n"
     ]
    }
   ],
   "source": [
    "#model = load_model('keras.h5')\n",
    "model = tf.keras.models.load_model('face-recogition.h5',custom_objects={'KerasLayer':hub.KerasLayer})\n",
    "model.summary()"
   ]
  },
  {
   "cell_type": "code",
   "execution_count": 18,
   "metadata": {
    "scrolled": true
   },
   "outputs": [
    {
     "name": "stdout",
     "output_type": "stream",
     "text": [
      "Model: \"sequential\"\n",
      "_________________________________________________________________\n",
      "Layer (type)                 Output Shape              Param #   \n",
      "=================================================================\n",
      "keras_layer (KerasLayer)     (None, 1001)              55875273  \n",
      "_________________________________________________________________\n",
      "dense (Dense)                (None, 7)                 7014      \n",
      "=================================================================\n",
      "Total params: 55,882,287\n",
      "Trainable params: 7,014\n",
      "Non-trainable params: 55,875,273\n",
      "_________________________________________________________________\n"
     ]
    }
   ],
   "source": [
    "model = tf.keras.models.load_model('face-recogition-colab.h5',custom_objects={'KerasLayer':hub.KerasLayer})\n",
    "model.summary()"
   ]
  },
  {
   "cell_type": "code",
   "execution_count": null,
   "metadata": {},
   "outputs": [],
   "source": []
  }
 ],
 "metadata": {
  "kernelspec": {
   "display_name": "Python 3",
   "language": "python",
   "name": "python3"
  },
  "language_info": {
   "codemirror_mode": {
    "name": "ipython",
    "version": 3
   },
   "file_extension": ".py",
   "mimetype": "text/x-python",
   "name": "python",
   "nbconvert_exporter": "python",
   "pygments_lexer": "ipython3",
   "version": "3.7.7"
  }
 },
 "nbformat": 4,
 "nbformat_minor": 4
}
