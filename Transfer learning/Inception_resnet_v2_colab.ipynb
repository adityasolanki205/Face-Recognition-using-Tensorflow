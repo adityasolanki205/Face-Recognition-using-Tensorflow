{
  "nbformat": 4,
  "nbformat_minor": 0,
  "metadata": {
    "accelerator": "GPU",
    "colab": {
      "name": "Inception_resnet_v2_colab.ipynb",
      "provenance": []
    },
    "kernelspec": {
      "display_name": "Python 3",
      "language": "python",
      "name": "python3"
    },
    "language_info": {
      "codemirror_mode": {
        "name": "ipython",
        "version": 3
      },
      "file_extension": ".py",
      "mimetype": "text/x-python",
      "name": "python",
      "nbconvert_exporter": "python",
      "pygments_lexer": "ipython3",
      "version": "3.7.7"
    }
  },
  "cells": [
    {
      "cell_type": "code",
      "metadata": {
        "colab_type": "code",
        "id": "lkfkl3B88IlD",
        "colab": {}
      },
      "source": [
        "import tensorflow as tf\n",
        "import matplotlib.pyplot as plt\n",
        "import tensorflow_hub as  hub\n",
        "import tensorflow_datasets as tfds\n",
        "import  numpy as np\n",
        "\n",
        "from tensorflow.keras import layers\n",
        "from tensorflow.keras.preprocessing.image import ImageDataGenerator\n",
        "from keras.models import load_model"
      ],
      "execution_count": 0,
      "outputs": []
    },
    {
      "cell_type": "code",
      "metadata": {
        "colab_type": "code",
        "id": "mHAuVcBW8IlI",
        "colab": {}
      },
      "source": [
        "import logging\n",
        "logger = tf.get_logger()\n",
        "logger.setLevel(logging.ERROR)"
      ],
      "execution_count": 0,
      "outputs": []
    },
    {
      "cell_type": "code",
      "metadata": {
        "colab_type": "code",
        "id": "ZAus3IU08IlK",
        "colab": {}
      },
      "source": [
        "Classifier = \"https://tfhub.dev/google/imagenet/inception_resnet_v2/classification/4\"\n",
        "image_res = 299\n",
        "feature_extractor = hub.KerasLayer(Classifier , input_shape=(image_res, image_res, 3))\n",
        "feature_extractor.trainable = False"
      ],
      "execution_count": 0,
      "outputs": []
    },
    {
      "cell_type": "code",
      "metadata": {
        "colab_type": "code",
        "id": "vkh5EwJZ8IlN",
        "colab": {}
      },
      "source": [
        "model = tf.keras.Sequential([feature_extractor,\n",
        "                             layers.Dense(7),\n",
        "                             layers.Activation(tf.nn.softmax)\n",
        "                            ])"
      ],
      "execution_count": 0,
      "outputs": []
    },
    {
      "cell_type": "code",
      "metadata": {
        "colab_type": "code",
        "id": "9CVVIxcn8IlP",
        "outputId": "2d1343a6-545c-43b9-9296-e22d7d66010c",
        "colab": {
          "base_uri": "https://localhost:8080/",
          "height": 260
        }
      },
      "source": [
        "model.summary()"
      ],
      "execution_count": 5,
      "outputs": [
        {
          "output_type": "stream",
          "text": [
            "Model: \"sequential\"\n",
            "_________________________________________________________________\n",
            "Layer (type)                 Output Shape              Param #   \n",
            "=================================================================\n",
            "keras_layer (KerasLayer)     (None, 1001)              55875273  \n",
            "_________________________________________________________________\n",
            "dense (Dense)                (None, 7)                 7014      \n",
            "_________________________________________________________________\n",
            "activation (Activation)      (None, 7)                 0         \n",
            "=================================================================\n",
            "Total params: 55,882,287\n",
            "Trainable params: 7,014\n",
            "Non-trainable params: 55,875,273\n",
            "_________________________________________________________________\n"
          ],
          "name": "stdout"
        }
      ]
    },
    {
      "cell_type": "code",
      "metadata": {
        "colab_type": "code",
        "id": "72mZFSrM8IlS",
        "colab": {}
      },
      "source": [
        "train_image_generator      = ImageDataGenerator(rescale=1./255,\n",
        "                                                rotation_range=30,\n",
        "                                                zoom_range=0.2,\n",
        "                                                horizontal_flip=True,\n",
        "                                                width_shift_range=0.15,\n",
        "                                                height_shift_range=0.15\n",
        "                                               )  \n",
        "validation_image_generator = ImageDataGenerator(rescale=1./255)\n",
        "test_image_generator       = ImageDataGenerator(rescale=1./255)"
      ],
      "execution_count": 0,
      "outputs": []
    },
    {
      "cell_type": "code",
      "metadata": {
        "colab_type": "code",
        "id": "MQadRSJQ8IlU",
        "colab": {}
      },
      "source": [
        "IMG_SHAPE = 299"
      ],
      "execution_count": 0,
      "outputs": []
    },
    {
      "cell_type": "code",
      "metadata": {
        "colab_type": "code",
        "id": "LdnJTK_O8IlX",
        "colab": {}
      },
      "source": [
        "#train_dir = '../data/faces/train/'\n",
        "#val_dir = '../data/faces/val/'\n",
        "train_dir = '/content/drive/My Drive/faces/train/'\n",
        "val_dir = '/content/drive/My Drive/faces/val/'"
      ],
      "execution_count": 0,
      "outputs": []
    },
    {
      "cell_type": "code",
      "metadata": {
        "colab_type": "code",
        "id": "mmfUkuQS3zKw",
        "outputId": "18971610-aae9-4e61-b3c0-9c54bcf593f3",
        "colab": {
          "base_uri": "https://localhost:8080/",
          "height": 124
        }
      },
      "source": [
        "from google.colab import drive\n",
        "drive.mount('/content/drive')"
      ],
      "execution_count": 6,
      "outputs": [
        {
          "output_type": "stream",
          "text": [
            "Go to this URL in a browser: https://accounts.google.com/o/oauth2/auth?client_id=947318989803-6bn6qk8qdgf4n4g3pfee6491hc0brc4i.apps.googleusercontent.com&redirect_uri=urn%3aietf%3awg%3aoauth%3a2.0%3aoob&response_type=code&scope=email%20https%3a%2f%2fwww.googleapis.com%2fauth%2fdocs.test%20https%3a%2f%2fwww.googleapis.com%2fauth%2fdrive%20https%3a%2f%2fwww.googleapis.com%2fauth%2fdrive.photos.readonly%20https%3a%2f%2fwww.googleapis.com%2fauth%2fpeopleapi.readonly\n",
            "\n",
            "Enter your authorization code:\n",
            "··········\n",
            "Mounted at /content/drive\n"
          ],
          "name": "stdout"
        }
      ]
    },
    {
      "cell_type": "code",
      "metadata": {
        "colab_type": "code",
        "id": "iKyeiwvi8Ila",
        "outputId": "8fd8437f-89a1-43fb-9c5f-23d4e77d9aa3",
        "colab": {
          "base_uri": "https://localhost:8080/",
          "height": 35
        }
      },
      "source": [
        "train_data_gen = train_image_generator.flow_from_directory(batch_size=100,\n",
        "                                                           directory=train_dir,\n",
        "                                                           shuffle=True,\n",
        "                                                           target_size=(IMG_SHAPE,IMG_SHAPE), #(150,150)\n",
        "                                                           class_mode='sparse')"
      ],
      "execution_count": 9,
      "outputs": [
        {
          "output_type": "stream",
          "text": [
            "Found 155 images belonging to 7 classes.\n"
          ],
          "name": "stdout"
        }
      ]
    },
    {
      "cell_type": "code",
      "metadata": {
        "colab_type": "code",
        "id": "rVR3aXDbBLqR",
        "outputId": "a5ed34f8-0598-4038-d95c-18c66d49ae9b",
        "colab": {
          "base_uri": "https://localhost:8080/",
          "height": 55
        }
      },
      "source": [
        "print(train_data_gen.class_indices)"
      ],
      "execution_count": 10,
      "outputs": [
        {
          "output_type": "stream",
          "text": [
            "{'Aditya Solanki': 0, 'Ben Afflek': 1, 'Elton John': 2, 'Jerry Seinfeld': 3, 'Madonna': 4, 'Mindy Kaling': 5, 'Unknown': 6}\n"
          ],
          "name": "stdout"
        }
      ]
    },
    {
      "cell_type": "code",
      "metadata": {
        "colab_type": "code",
        "id": "TDtiVCgJ8Ilc",
        "outputId": "a8a9f4e4-a09a-4f7c-dec1-5ec5d1ed1062",
        "colab": {
          "base_uri": "https://localhost:8080/",
          "height": 35
        }
      },
      "source": [
        "val_data_gen = validation_image_generator.flow_from_directory(batch_size=20,\n",
        "                                                              directory=val_dir,\n",
        "                                                              shuffle=False,\n",
        "                                                              target_size=(IMG_SHAPE,IMG_SHAPE), #(150,150)\n",
        "                                                              class_mode='sparse')"
      ],
      "execution_count": 11,
      "outputs": [
        {
          "output_type": "stream",
          "text": [
            "Found 35 images belonging to 7 classes.\n"
          ],
          "name": "stdout"
        }
      ]
    },
    {
      "cell_type": "code",
      "metadata": {
        "colab_type": "code",
        "id": "8LSbvZRS8Ile",
        "colab": {}
      },
      "source": [
        "model.compile(optimizer='adam',\n",
        "              loss=tf.keras.losses.SparseCategoricalCrossentropy(from_logits=True),\n",
        "              metrics=['accuracy'])"
      ],
      "execution_count": 0,
      "outputs": []
    },
    {
      "cell_type": "code",
      "metadata": {
        "colab_type": "code",
        "id": "oB1Yrb-J8Ilh",
        "outputId": "a016c427-0ff8-4d8e-e935-076aa7fc0af7",
        "colab": {
          "base_uri": "https://localhost:8080/",
          "height": 260
        }
      },
      "source": [
        "model.summary()"
      ],
      "execution_count": 13,
      "outputs": [
        {
          "output_type": "stream",
          "text": [
            "Model: \"sequential\"\n",
            "_________________________________________________________________\n",
            "Layer (type)                 Output Shape              Param #   \n",
            "=================================================================\n",
            "keras_layer (KerasLayer)     (None, 1001)              55875273  \n",
            "_________________________________________________________________\n",
            "dense (Dense)                (None, 7)                 7014      \n",
            "_________________________________________________________________\n",
            "activation (Activation)      (None, 7)                 0         \n",
            "=================================================================\n",
            "Total params: 55,882,287\n",
            "Trainable params: 7,014\n",
            "Non-trainable params: 55,875,273\n",
            "_________________________________________________________________\n"
          ],
          "name": "stdout"
        }
      ]
    },
    {
      "cell_type": "code",
      "metadata": {
        "colab_type": "code",
        "id": "YSlalr2a8Ilk",
        "outputId": "57b87caa-58d0-45b6-d8f5-f44cb08ab57a",
        "scrolled": true,
        "colab": {
          "base_uri": "https://localhost:8080/",
          "height": 1000
        }
      },
      "source": [
        "EPOCHS = 100\n",
        "history = model.fit_generator(\n",
        "    train_data_gen,\n",
        "    steps_per_epoch=int(np.ceil(155 / float(100))),\n",
        "    epochs=EPOCHS,\n",
        "    validation_data=val_data_gen,\n",
        "    validation_steps=int(np.ceil(35 / float(20)))\n",
        ")"
      ],
      "execution_count": 14,
      "outputs": [
        {
          "output_type": "stream",
          "text": [
            "Epoch 1/100\n",
            "2/2 [==============================] - 13s 6s/step - loss: 1.9655 - accuracy: 0.1419 - val_loss: 1.9504 - val_accuracy: 0.1429\n",
            "Epoch 2/100\n",
            "2/2 [==============================] - 3s 1s/step - loss: 1.8991 - accuracy: 0.2581 - val_loss: 1.9076 - val_accuracy: 0.2286\n",
            "Epoch 3/100\n",
            "2/2 [==============================] - 3s 1s/step - loss: 1.8701 - accuracy: 0.3032 - val_loss: 1.8441 - val_accuracy: 0.3143\n",
            "Epoch 4/100\n",
            "2/2 [==============================] - 2s 1s/step - loss: 1.8276 - accuracy: 0.3355 - val_loss: 1.7933 - val_accuracy: 0.3714\n",
            "Epoch 5/100\n",
            "2/2 [==============================] - 3s 1s/step - loss: 1.7856 - accuracy: 0.4129 - val_loss: 1.7727 - val_accuracy: 0.3714\n",
            "Epoch 6/100\n",
            "2/2 [==============================] - 2s 1s/step - loss: 1.7578 - accuracy: 0.4129 - val_loss: 1.7667 - val_accuracy: 0.4571\n",
            "Epoch 7/100\n",
            "2/2 [==============================] - 3s 1s/step - loss: 1.7660 - accuracy: 0.4194 - val_loss: 1.7559 - val_accuracy: 0.4571\n",
            "Epoch 8/100\n",
            "2/2 [==============================] - 3s 1s/step - loss: 1.7547 - accuracy: 0.4258 - val_loss: 1.7435 - val_accuracy: 0.4571\n",
            "Epoch 9/100\n",
            "2/2 [==============================] - 3s 1s/step - loss: 1.7236 - accuracy: 0.4645 - val_loss: 1.7293 - val_accuracy: 0.4571\n",
            "Epoch 10/100\n",
            "2/2 [==============================] - 3s 1s/step - loss: 1.7047 - accuracy: 0.4581 - val_loss: 1.7114 - val_accuracy: 0.4571\n",
            "Epoch 11/100\n",
            "2/2 [==============================] - 3s 1s/step - loss: 1.6911 - accuracy: 0.5161 - val_loss: 1.6936 - val_accuracy: 0.4857\n",
            "Epoch 12/100\n",
            "2/2 [==============================] - 2s 1s/step - loss: 1.7044 - accuracy: 0.4839 - val_loss: 1.6754 - val_accuracy: 0.4857\n",
            "Epoch 13/100\n",
            "2/2 [==============================] - 3s 1s/step - loss: 1.6768 - accuracy: 0.5226 - val_loss: 1.6632 - val_accuracy: 0.5429\n",
            "Epoch 14/100\n",
            "2/2 [==============================] - 2s 1s/step - loss: 1.6475 - accuracy: 0.5742 - val_loss: 1.6602 - val_accuracy: 0.5429\n",
            "Epoch 15/100\n",
            "2/2 [==============================] - 2s 1s/step - loss: 1.6541 - accuracy: 0.5742 - val_loss: 1.6590 - val_accuracy: 0.5714\n",
            "Epoch 16/100\n",
            "2/2 [==============================] - 3s 1s/step - loss: 1.6692 - accuracy: 0.5161 - val_loss: 1.6522 - val_accuracy: 0.5714\n",
            "Epoch 17/100\n",
            "2/2 [==============================] - 3s 1s/step - loss: 1.6515 - accuracy: 0.5290 - val_loss: 1.6340 - val_accuracy: 0.5714\n",
            "Epoch 18/100\n",
            "2/2 [==============================] - 3s 1s/step - loss: 1.6259 - accuracy: 0.5742 - val_loss: 1.6206 - val_accuracy: 0.5714\n",
            "Epoch 19/100\n",
            "2/2 [==============================] - 2s 1s/step - loss: 1.6411 - accuracy: 0.5484 - val_loss: 1.6152 - val_accuracy: 0.5714\n",
            "Epoch 20/100\n",
            "2/2 [==============================] - 3s 1s/step - loss: 1.6380 - accuracy: 0.5161 - val_loss: 1.6128 - val_accuracy: 0.5714\n",
            "Epoch 21/100\n",
            "2/2 [==============================] - 3s 1s/step - loss: 1.6293 - accuracy: 0.5742 - val_loss: 1.6138 - val_accuracy: 0.5714\n",
            "Epoch 22/100\n",
            "2/2 [==============================] - 2s 1s/step - loss: 1.5843 - accuracy: 0.6129 - val_loss: 1.6217 - val_accuracy: 0.6000\n",
            "Epoch 23/100\n",
            "2/2 [==============================] - 3s 1s/step - loss: 1.6187 - accuracy: 0.5419 - val_loss: 1.6298 - val_accuracy: 0.6000\n",
            "Epoch 24/100\n",
            "2/2 [==============================] - 3s 1s/step - loss: 1.6019 - accuracy: 0.5871 - val_loss: 1.6354 - val_accuracy: 0.5429\n",
            "Epoch 25/100\n",
            "2/2 [==============================] - 3s 1s/step - loss: 1.6261 - accuracy: 0.5677 - val_loss: 1.6223 - val_accuracy: 0.6286\n",
            "Epoch 26/100\n",
            "2/2 [==============================] - 2s 1s/step - loss: 1.5958 - accuracy: 0.6065 - val_loss: 1.6035 - val_accuracy: 0.6000\n",
            "Epoch 27/100\n",
            "2/2 [==============================] - 3s 1s/step - loss: 1.5768 - accuracy: 0.6065 - val_loss: 1.5914 - val_accuracy: 0.6000\n",
            "Epoch 28/100\n",
            "2/2 [==============================] - 3s 1s/step - loss: 1.5557 - accuracy: 0.6452 - val_loss: 1.5830 - val_accuracy: 0.6000\n",
            "Epoch 29/100\n",
            "2/2 [==============================] - 3s 1s/step - loss: 1.5680 - accuracy: 0.6452 - val_loss: 1.5688 - val_accuracy: 0.6286\n",
            "Epoch 30/100\n",
            "2/2 [==============================] - 2s 1s/step - loss: 1.5742 - accuracy: 0.6065 - val_loss: 1.5655 - val_accuracy: 0.6286\n",
            "Epoch 31/100\n",
            "2/2 [==============================] - 3s 1s/step - loss: 1.5383 - accuracy: 0.7032 - val_loss: 1.5681 - val_accuracy: 0.6000\n",
            "Epoch 32/100\n",
            "2/2 [==============================] - 2s 1s/step - loss: 1.5587 - accuracy: 0.6516 - val_loss: 1.5641 - val_accuracy: 0.6571\n",
            "Epoch 33/100\n",
            "2/2 [==============================] - 3s 1s/step - loss: 1.5214 - accuracy: 0.6968 - val_loss: 1.5552 - val_accuracy: 0.6857\n",
            "Epoch 34/100\n",
            "2/2 [==============================] - 3s 1s/step - loss: 1.5169 - accuracy: 0.7032 - val_loss: 1.5425 - val_accuracy: 0.6857\n",
            "Epoch 35/100\n",
            "2/2 [==============================] - 3s 1s/step - loss: 1.5176 - accuracy: 0.6968 - val_loss: 1.5162 - val_accuracy: 0.7143\n",
            "Epoch 36/100\n",
            "2/2 [==============================] - 2s 1s/step - loss: 1.5057 - accuracy: 0.7290 - val_loss: 1.5000 - val_accuracy: 0.7429\n",
            "Epoch 37/100\n",
            "2/2 [==============================] - 3s 1s/step - loss: 1.4750 - accuracy: 0.7677 - val_loss: 1.4928 - val_accuracy: 0.7429\n",
            "Epoch 38/100\n",
            "2/2 [==============================] - 2s 1s/step - loss: 1.4901 - accuracy: 0.7548 - val_loss: 1.4902 - val_accuracy: 0.7429\n",
            "Epoch 39/100\n",
            "2/2 [==============================] - 2s 1s/step - loss: 1.4764 - accuracy: 0.7290 - val_loss: 1.4909 - val_accuracy: 0.7429\n",
            "Epoch 40/100\n",
            "2/2 [==============================] - 2s 1s/step - loss: 1.5017 - accuracy: 0.7355 - val_loss: 1.4959 - val_accuracy: 0.7429\n",
            "Epoch 41/100\n",
            "2/2 [==============================] - 3s 1s/step - loss: 1.4601 - accuracy: 0.7613 - val_loss: 1.4988 - val_accuracy: 0.7429\n",
            "Epoch 42/100\n",
            "2/2 [==============================] - 2s 1s/step - loss: 1.4760 - accuracy: 0.7806 - val_loss: 1.4906 - val_accuracy: 0.7429\n",
            "Epoch 43/100\n",
            "2/2 [==============================] - 3s 1s/step - loss: 1.4415 - accuracy: 0.7742 - val_loss: 1.4816 - val_accuracy: 0.7714\n",
            "Epoch 44/100\n",
            "2/2 [==============================] - 2s 1s/step - loss: 1.4707 - accuracy: 0.7613 - val_loss: 1.4754 - val_accuracy: 0.7714\n",
            "Epoch 45/100\n",
            "2/2 [==============================] - 3s 1s/step - loss: 1.4841 - accuracy: 0.7161 - val_loss: 1.4739 - val_accuracy: 0.7714\n",
            "Epoch 46/100\n",
            "2/2 [==============================] - 2s 1s/step - loss: 1.4618 - accuracy: 0.7484 - val_loss: 1.4725 - val_accuracy: 0.7143\n",
            "Epoch 47/100\n",
            "2/2 [==============================] - 2s 1s/step - loss: 1.4717 - accuracy: 0.7290 - val_loss: 1.4735 - val_accuracy: 0.7143\n",
            "Epoch 48/100\n",
            "2/2 [==============================] - 3s 1s/step - loss: 1.4694 - accuracy: 0.7419 - val_loss: 1.4817 - val_accuracy: 0.7143\n",
            "Epoch 49/100\n",
            "2/2 [==============================] - 3s 1s/step - loss: 1.4622 - accuracy: 0.7355 - val_loss: 1.4915 - val_accuracy: 0.6857\n",
            "Epoch 50/100\n",
            "2/2 [==============================] - 2s 1s/step - loss: 1.4713 - accuracy: 0.7290 - val_loss: 1.4912 - val_accuracy: 0.7143\n",
            "Epoch 51/100\n",
            "2/2 [==============================] - 3s 1s/step - loss: 1.4650 - accuracy: 0.7548 - val_loss: 1.4855 - val_accuracy: 0.7143\n",
            "Epoch 52/100\n",
            "2/2 [==============================] - 2s 1s/step - loss: 1.4571 - accuracy: 0.7613 - val_loss: 1.4832 - val_accuracy: 0.7143\n",
            "Epoch 53/100\n",
            "2/2 [==============================] - 3s 1s/step - loss: 1.4408 - accuracy: 0.7677 - val_loss: 1.4864 - val_accuracy: 0.7143\n",
            "Epoch 54/100\n",
            "2/2 [==============================] - 2s 1s/step - loss: 1.4793 - accuracy: 0.7290 - val_loss: 1.4933 - val_accuracy: 0.7143\n",
            "Epoch 55/100\n",
            "2/2 [==============================] - 3s 1s/step - loss: 1.4475 - accuracy: 0.7484 - val_loss: 1.4988 - val_accuracy: 0.7143\n",
            "Epoch 56/100\n",
            "2/2 [==============================] - 2s 1s/step - loss: 1.4557 - accuracy: 0.7548 - val_loss: 1.5016 - val_accuracy: 0.7143\n",
            "Epoch 57/100\n",
            "2/2 [==============================] - 3s 1s/step - loss: 1.4478 - accuracy: 0.7613 - val_loss: 1.5053 - val_accuracy: 0.6857\n",
            "Epoch 58/100\n",
            "2/2 [==============================] - 2s 1s/step - loss: 1.4376 - accuracy: 0.7871 - val_loss: 1.5039 - val_accuracy: 0.6857\n",
            "Epoch 59/100\n",
            "2/2 [==============================] - 2s 1s/step - loss: 1.4637 - accuracy: 0.7548 - val_loss: 1.4995 - val_accuracy: 0.6857\n",
            "Epoch 60/100\n",
            "2/2 [==============================] - 2s 1s/step - loss: 1.4307 - accuracy: 0.7742 - val_loss: 1.4939 - val_accuracy: 0.7143\n",
            "Epoch 61/100\n",
            "2/2 [==============================] - 2s 1s/step - loss: 1.4358 - accuracy: 0.7677 - val_loss: 1.4914 - val_accuracy: 0.7143\n",
            "Epoch 62/100\n",
            "2/2 [==============================] - 2s 1s/step - loss: 1.4345 - accuracy: 0.7871 - val_loss: 1.4923 - val_accuracy: 0.6857\n",
            "Epoch 63/100\n",
            "2/2 [==============================] - 3s 1s/step - loss: 1.4372 - accuracy: 0.7806 - val_loss: 1.4982 - val_accuracy: 0.6286\n",
            "Epoch 64/100\n",
            "2/2 [==============================] - 2s 1s/step - loss: 1.4340 - accuracy: 0.7806 - val_loss: 1.5001 - val_accuracy: 0.6571\n",
            "Epoch 65/100\n",
            "2/2 [==============================] - 3s 1s/step - loss: 1.4324 - accuracy: 0.7935 - val_loss: 1.5018 - val_accuracy: 0.6857\n",
            "Epoch 66/100\n",
            "2/2 [==============================] - 2s 1s/step - loss: 1.4394 - accuracy: 0.7742 - val_loss: 1.4947 - val_accuracy: 0.6571\n",
            "Epoch 67/100\n",
            "2/2 [==============================] - 2s 1s/step - loss: 1.4000 - accuracy: 0.8194 - val_loss: 1.4901 - val_accuracy: 0.6857\n",
            "Epoch 68/100\n",
            "2/2 [==============================] - 2s 1s/step - loss: 1.4087 - accuracy: 0.7871 - val_loss: 1.4917 - val_accuracy: 0.6857\n",
            "Epoch 69/100\n",
            "2/2 [==============================] - 3s 1s/step - loss: 1.4324 - accuracy: 0.7677 - val_loss: 1.4924 - val_accuracy: 0.6857\n",
            "Epoch 70/100\n",
            "2/2 [==============================] - 2s 1s/step - loss: 1.4252 - accuracy: 0.7935 - val_loss: 1.4933 - val_accuracy: 0.6857\n",
            "Epoch 71/100\n",
            "2/2 [==============================] - 2s 1s/step - loss: 1.4205 - accuracy: 0.7742 - val_loss: 1.4956 - val_accuracy: 0.6857\n",
            "Epoch 72/100\n",
            "2/2 [==============================] - 2s 1s/step - loss: 1.3890 - accuracy: 0.8258 - val_loss: 1.4979 - val_accuracy: 0.6571\n",
            "Epoch 73/100\n",
            "2/2 [==============================] - 2s 1s/step - loss: 1.4367 - accuracy: 0.7677 - val_loss: 1.4952 - val_accuracy: 0.6571\n",
            "Epoch 74/100\n",
            "2/2 [==============================] - 2s 1s/step - loss: 1.4141 - accuracy: 0.7935 - val_loss: 1.4921 - val_accuracy: 0.6571\n",
            "Epoch 75/100\n",
            "2/2 [==============================] - 2s 1s/step - loss: 1.4255 - accuracy: 0.7677 - val_loss: 1.4842 - val_accuracy: 0.6857\n",
            "Epoch 76/100\n",
            "2/2 [==============================] - 3s 1s/step - loss: 1.3824 - accuracy: 0.8258 - val_loss: 1.4775 - val_accuracy: 0.7143\n",
            "Epoch 77/100\n",
            "2/2 [==============================] - 3s 1s/step - loss: 1.3979 - accuracy: 0.8194 - val_loss: 1.4784 - val_accuracy: 0.7143\n",
            "Epoch 78/100\n",
            "2/2 [==============================] - 2s 1s/step - loss: 1.4034 - accuracy: 0.7677 - val_loss: 1.4827 - val_accuracy: 0.7143\n",
            "Epoch 79/100\n",
            "2/2 [==============================] - 3s 1s/step - loss: 1.3994 - accuracy: 0.8323 - val_loss: 1.4883 - val_accuracy: 0.7143\n",
            "Epoch 80/100\n",
            "2/2 [==============================] - 2s 1s/step - loss: 1.4266 - accuracy: 0.8065 - val_loss: 1.4922 - val_accuracy: 0.6857\n",
            "Epoch 81/100\n",
            "2/2 [==============================] - 3s 1s/step - loss: 1.4136 - accuracy: 0.8065 - val_loss: 1.4937 - val_accuracy: 0.6857\n",
            "Epoch 82/100\n",
            "2/2 [==============================] - 2s 1s/step - loss: 1.3765 - accuracy: 0.8323 - val_loss: 1.4934 - val_accuracy: 0.7143\n",
            "Epoch 83/100\n",
            "2/2 [==============================] - 3s 1s/step - loss: 1.4004 - accuracy: 0.8323 - val_loss: 1.4872 - val_accuracy: 0.7143\n",
            "Epoch 84/100\n",
            "2/2 [==============================] - 2s 1s/step - loss: 1.4212 - accuracy: 0.7935 - val_loss: 1.4795 - val_accuracy: 0.7143\n",
            "Epoch 85/100\n",
            "2/2 [==============================] - 3s 1s/step - loss: 1.4207 - accuracy: 0.7806 - val_loss: 1.4783 - val_accuracy: 0.7143\n",
            "Epoch 86/100\n",
            "2/2 [==============================] - 2s 1s/step - loss: 1.4196 - accuracy: 0.7806 - val_loss: 1.4821 - val_accuracy: 0.6857\n",
            "Epoch 87/100\n",
            "2/2 [==============================] - 3s 1s/step - loss: 1.4115 - accuracy: 0.7871 - val_loss: 1.4876 - val_accuracy: 0.6857\n",
            "Epoch 88/100\n",
            "2/2 [==============================] - 2s 1s/step - loss: 1.4066 - accuracy: 0.7935 - val_loss: 1.4876 - val_accuracy: 0.7143\n",
            "Epoch 89/100\n",
            "2/2 [==============================] - 3s 1s/step - loss: 1.4178 - accuracy: 0.7935 - val_loss: 1.4855 - val_accuracy: 0.6857\n",
            "Epoch 90/100\n",
            "2/2 [==============================] - 2s 1s/step - loss: 1.3969 - accuracy: 0.8129 - val_loss: 1.4852 - val_accuracy: 0.6857\n",
            "Epoch 91/100\n",
            "2/2 [==============================] - 3s 1s/step - loss: 1.3973 - accuracy: 0.7871 - val_loss: 1.4813 - val_accuracy: 0.6857\n",
            "Epoch 92/100\n",
            "2/2 [==============================] - 2s 1s/step - loss: 1.3983 - accuracy: 0.8129 - val_loss: 1.4817 - val_accuracy: 0.7143\n",
            "Epoch 93/100\n",
            "2/2 [==============================] - 2s 1s/step - loss: 1.3902 - accuracy: 0.8129 - val_loss: 1.4882 - val_accuracy: 0.7143\n",
            "Epoch 94/100\n",
            "2/2 [==============================] - 2s 1s/step - loss: 1.3827 - accuracy: 0.8000 - val_loss: 1.4895 - val_accuracy: 0.7143\n",
            "Epoch 95/100\n",
            "2/2 [==============================] - 2s 1s/step - loss: 1.3923 - accuracy: 0.8065 - val_loss: 1.4847 - val_accuracy: 0.7429\n",
            "Epoch 96/100\n",
            "2/2 [==============================] - 2s 1s/step - loss: 1.4096 - accuracy: 0.7871 - val_loss: 1.4802 - val_accuracy: 0.7143\n",
            "Epoch 97/100\n",
            "2/2 [==============================] - 3s 1s/step - loss: 1.4077 - accuracy: 0.7935 - val_loss: 1.4775 - val_accuracy: 0.7143\n",
            "Epoch 98/100\n",
            "2/2 [==============================] - 2s 1s/step - loss: 1.4142 - accuracy: 0.7806 - val_loss: 1.4778 - val_accuracy: 0.7143\n",
            "Epoch 99/100\n",
            "2/2 [==============================] - 2s 1s/step - loss: 1.3961 - accuracy: 0.8065 - val_loss: 1.4794 - val_accuracy: 0.7143\n",
            "Epoch 100/100\n",
            "2/2 [==============================] - 2s 1s/step - loss: 1.4057 - accuracy: 0.7871 - val_loss: 1.4810 - val_accuracy: 0.7143\n"
          ],
          "name": "stdout"
        }
      ]
    },
    {
      "cell_type": "code",
      "metadata": {
        "colab_type": "code",
        "id": "OjvCGpAp8Ilm",
        "colab": {}
      },
      "source": [
        "model.save('face-recogition-colab.h5')"
      ],
      "execution_count": 0,
      "outputs": []
    },
    {
      "cell_type": "code",
      "metadata": {
        "colab_type": "code",
        "id": "QOuZtuQJ8Ilo",
        "outputId": "a1ac0143-9287-4e51-e2f2-ae1c9d06ac11",
        "colab": {
          "base_uri": "https://localhost:8080/",
          "height": 499
        }
      },
      "source": [
        "acc = history.history['accuracy']\n",
        "val_acc = history.history['val_accuracy']\n",
        "\n",
        "loss = history.history['loss']\n",
        "val_loss = history.history['val_loss']\n",
        "\n",
        "epochs_range = range(EPOCHS)\n",
        "\n",
        "plt.figure(figsize=(8, 8))\n",
        "plt.subplot(1, 2, 1)\n",
        "plt.plot(epochs_range, acc, label='Training Accuracy')\n",
        "plt.plot(epochs_range, val_acc, label='Validation Accuracy')\n",
        "plt.legend(loc='lower right')\n",
        "plt.title('Training and Validation Accuracy')\n",
        "\n",
        "plt.subplot(1, 2, 2)\n",
        "plt.plot(epochs_range, loss, label='Training Loss')\n",
        "plt.plot(epochs_range, val_loss, label='Validation Loss')\n",
        "plt.legend(loc='upper right')\n",
        "plt.title('Training and Validation Loss')\n",
        "plt.savefig('./learning-colab.png')\n",
        "plt.show()"
      ],
      "execution_count": 21,
      "outputs": [
        {
          "output_type": "display_data",
          "data": {
            "image/png": "[encoded data removed]",
            "text/plain": [
              "<Figure size 576x576 with 2 Axes>"
            ]
          },
          "metadata": {
            "tags": [],
            "needs_background": "light"
          }
        }
      ]
    },
    {
      "cell_type": "code",
      "metadata": {
        "colab_type": "code",
        "id": "D52Bo-yE8Ilr",
        "outputId": "d034ee34-d2a0-46af-8fa9-cde2b5e23b6c",
        "colab": {
          "base_uri": "https://localhost:8080/",
          "height": 260
        }
      },
      "source": [
        "#model = load_model('keras.h5')\n",
        "model = tf.keras.models.load_model('face-recogition-colab.h5',custom_objects={'KerasLayer':hub.KerasLayer})\n",
        "model.summary()"
      ],
      "execution_count": 22,
      "outputs": [
        {
          "output_type": "stream",
          "text": [
            "Model: \"sequential\"\n",
            "_________________________________________________________________\n",
            "Layer (type)                 Output Shape              Param #   \n",
            "=================================================================\n",
            "keras_layer (KerasLayer)     (None, 1001)              55875273  \n",
            "_________________________________________________________________\n",
            "dense (Dense)                (None, 7)                 7014      \n",
            "_________________________________________________________________\n",
            "activation (Activation)      (None, 7)                 0         \n",
            "=================================================================\n",
            "Total params: 55,882,287\n",
            "Trainable params: 7,014\n",
            "Non-trainable params: 55,875,273\n",
            "_________________________________________________________________\n"
          ],
          "name": "stdout"
        }
      ]
    },
    {
      "cell_type": "code",
      "metadata": {
        "colab_type": "code",
        "id": "cMYZTjn78Ilt",
        "colab": {}
      },
      "source": [
        ""
      ],
      "execution_count": 0,
      "outputs": []
    }
  ]
}