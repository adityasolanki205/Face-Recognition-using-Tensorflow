{
  "nbformat": 4,
  "nbformat_minor": 0,
  "metadata": {
    "kernelspec": {
      "display_name": "Python 3",
      "language": "python",
      "name": "python3"
    },
    "language_info": {
      "codemirror_mode": {
        "name": "ipython",
        "version": 3
      },
      "file_extension": ".py",
      "mimetype": "text/x-python",
      "name": "python",
      "nbconvert_exporter": "python",
      "pygments_lexer": "ipython3",
      "version": "3.7.7"
    },
    "colab": {
      "name": "Inception_resnet_v2.ipynb",
      "provenance": []
    },
    "accelerator": "GPU"
  },
  "cells": [
    {
      "cell_type": "code",
      "metadata": {
        "id": "lkfkl3B88IlD",
        "colab_type": "code",
        "colab": {}
      },
      "source": [
        "import tensorflow as tf\n",
        "import matplotlib.pyplot as plt\n",
        "import tensorflow_hub as  hub\n",
        "import tensorflow_datasets as tfds\n",
        "import  numpy as np\n",
        "\n",
        "from tensorflow.keras import layers\n",
        "from tensorflow.keras.preprocessing.image import ImageDataGenerator\n",
        "from keras.models import load_model"
      ],
      "execution_count": 0,
      "outputs": []
    },
    {
      "cell_type": "code",
      "metadata": {
        "id": "mHAuVcBW8IlI",
        "colab_type": "code",
        "colab": {}
      },
      "source": [
        "import logging\n",
        "logger = tf.get_logger()\n",
        "logger.setLevel(logging.ERROR)"
      ],
      "execution_count": 0,
      "outputs": []
    },
    {
      "cell_type": "code",
      "metadata": {
        "id": "ZAus3IU08IlK",
        "colab_type": "code",
        "colab": {}
      },
      "source": [
        "Classifier = \"https://tfhub.dev/google/imagenet/inception_resnet_v2/classification/4\"\n",
        "image_res = 299"
      ],
      "execution_count": 0,
      "outputs": []
    },
    {
      "cell_type": "code",
      "metadata": {
        "id": "vkh5EwJZ8IlN",
        "colab_type": "code",
        "colab": {}
      },
      "source": [
        "model = tf.keras.Sequential([hub.KerasLayer(Classifier, input_shape=(image_res, image_res, 3)),\n",
        "                             layers.Dense(7)\n",
        "                            ])"
      ],
      "execution_count": 0,
      "outputs": []
    },
    {
      "cell_type": "code",
      "metadata": {
        "id": "9CVVIxcn8IlP",
        "colab_type": "code",
        "colab": {
          "base_uri": "https://localhost:8080/",
          "height": 225
        },
        "outputId": "c821ec4d-7512-4e20-b420-b7c7df08f8bd"
      },
      "source": [
        "model.summary()"
      ],
      "execution_count": 66,
      "outputs": [
        {
          "output_type": "stream",
          "text": [
            "Model: \"sequential_2\"\n",
            "_________________________________________________________________\n",
            "Layer (type)                 Output Shape              Param #   \n",
            "=================================================================\n",
            "keras_layer_2 (KerasLayer)   (None, 1001)              55875273  \n",
            "_________________________________________________________________\n",
            "dense_2 (Dense)              (None, 7)                 7014      \n",
            "=================================================================\n",
            "Total params: 55,882,287\n",
            "Trainable params: 7,014\n",
            "Non-trainable params: 55,875,273\n",
            "_________________________________________________________________\n"
          ],
          "name": "stdout"
        }
      ]
    },
    {
      "cell_type": "code",
      "metadata": {
        "id": "72mZFSrM8IlS",
        "colab_type": "code",
        "colab": {}
      },
      "source": [
        "train_image_generator      = ImageDataGenerator(rescale=1./255,\n",
        "                                                rotation_range=30,\n",
        "                                                zoom_range=0.2,\n",
        "                                                horizontal_flip=True,\n",
        "                                                width_shift_range=0.15,\n",
        "                                                height_shift_range=0.15\n",
        "                                               )  \n",
        "validation_image_generator = ImageDataGenerator(rescale=1./255)\n",
        "test_image_generator       = ImageDataGenerator(rescale=1./255)"
      ],
      "execution_count": 0,
      "outputs": []
    },
    {
      "cell_type": "code",
      "metadata": {
        "id": "MQadRSJQ8IlU",
        "colab_type": "code",
        "colab": {}
      },
      "source": [
        "IMG_SHAPE = 299"
      ],
      "execution_count": 0,
      "outputs": []
    },
    {
      "cell_type": "code",
      "metadata": {
        "id": "LdnJTK_O8IlX",
        "colab_type": "code",
        "colab": {}
      },
      "source": [
        "#train_dir = '../data/faces/train/'\n",
        "#val_dir = '../data/faces/val/'\n",
        "train_dir = '/content/drive/My Drive/faces/train/'\n",
        "val_dir = '/content/drive/My Drive/faces/val/'"
      ],
      "execution_count": 0,
      "outputs": []
    },
    {
      "cell_type": "code",
      "metadata": {
        "id": "iKyeiwvi8Ila",
        "colab_type": "code",
        "colab": {
          "base_uri": "https://localhost:8080/",
          "height": 35
        },
        "outputId": "ddee1e39-6bd2-4b20-87bd-a9aeb58c30fe"
      },
      "source": [
        "train_data_gen = train_image_generator.flow_from_directory(batch_size=100,\n",
        "                                                           directory=train_dir,\n",
        "                                                           shuffle=True,\n",
        "                                                           target_size=(IMG_SHAPE,IMG_SHAPE), #(150,150)\n",
        "                                                           class_mode='sparse')"
      ],
      "execution_count": 71,
      "outputs": [
        {
          "output_type": "stream",
          "text": [
            "Found 155 images belonging to 7 classes.\n"
          ],
          "name": "stdout"
        }
      ]
    },
    {
      "cell_type": "code",
      "metadata": {
        "id": "rVR3aXDbBLqR",
        "colab_type": "code",
        "colab": {
          "base_uri": "https://localhost:8080/",
          "height": 55
        },
        "outputId": "74c00e00-c20c-4afa-f144-a09a6cd6594b"
      },
      "source": [
        "print(train_data_gen.class_indices)"
      ],
      "execution_count": 72,
      "outputs": [
        {
          "output_type": "stream",
          "text": [
            "{'Aditya Solanki': 0, 'Ben Afflek': 1, 'Elton John': 2, 'Jerry Seinfeld': 3, 'Madonna': 4, 'Mindy Kaling': 5, 'Unknown': 6}\n"
          ],
          "name": "stdout"
        }
      ]
    },
    {
      "cell_type": "code",
      "metadata": {
        "id": "TDtiVCgJ8Ilc",
        "colab_type": "code",
        "colab": {
          "base_uri": "https://localhost:8080/",
          "height": 35
        },
        "outputId": "f4f71265-81b7-4868-ca12-e9fe11e0d5cf"
      },
      "source": [
        "val_data_gen = validation_image_generator.flow_from_directory(batch_size=20,\n",
        "                                                              directory=val_dir,\n",
        "                                                              shuffle=False,\n",
        "                                                              target_size=(IMG_SHAPE,IMG_SHAPE), #(150,150)\n",
        "                                                              class_mode='sparse')"
      ],
      "execution_count": 73,
      "outputs": [
        {
          "output_type": "stream",
          "text": [
            "Found 35 images belonging to 7 classes.\n"
          ],
          "name": "stdout"
        }
      ]
    },
    {
      "cell_type": "code",
      "metadata": {
        "id": "8LSbvZRS8Ile",
        "colab_type": "code",
        "colab": {}
      },
      "source": [
        "model.compile(optimizer='adam',\n",
        "              loss=tf.keras.losses.SparseCategoricalCrossentropy(from_logits=True),\n",
        "              metrics=['accuracy'])"
      ],
      "execution_count": 0,
      "outputs": []
    },
    {
      "cell_type": "code",
      "metadata": {
        "id": "oB1Yrb-J8Ilh",
        "colab_type": "code",
        "colab": {
          "base_uri": "https://localhost:8080/",
          "height": 225
        },
        "outputId": "3acc72da-9a59-4ba9-d19b-0721d50df5c4"
      },
      "source": [
        "model.summary()"
      ],
      "execution_count": 77,
      "outputs": [
        {
          "output_type": "stream",
          "text": [
            "Model: \"sequential_2\"\n",
            "_________________________________________________________________\n",
            "Layer (type)                 Output Shape              Param #   \n",
            "=================================================================\n",
            "keras_layer_2 (KerasLayer)   (None, 1001)              55875273  \n",
            "_________________________________________________________________\n",
            "dense_2 (Dense)              (None, 7)                 7014      \n",
            "=================================================================\n",
            "Total params: 55,882,287\n",
            "Trainable params: 7,014\n",
            "Non-trainable params: 55,875,273\n",
            "_________________________________________________________________\n"
          ],
          "name": "stdout"
        }
      ]
    },
    {
      "cell_type": "code",
      "metadata": {
        "scrolled": true,
        "id": "YSlalr2a8Ilk",
        "colab_type": "code",
        "colab": {
          "base_uri": "https://localhost:8080/",
          "height": 1000
        },
        "outputId": "cd5977f7-a735-472b-967e-ef6875c1c26c"
      },
      "source": [
        "EPOCHS = 70\n",
        "history = model.fit_generator(\n",
        "    train_data_gen,\n",
        "    steps_per_epoch=int(np.ceil(155 / float(100))),\n",
        "    epochs=EPOCHS,\n",
        "    validation_data=val_data_gen,\n",
        "    validation_steps=int(np.ceil(35 / float(20)))\n",
        ")"
      ],
      "execution_count": 78,
      "outputs": [
        {
          "output_type": "stream",
          "text": [
            "Epoch 1/70\n",
            "2/2 [==============================] - 4s 2s/step - loss: 2.1351 - accuracy: 0.2645 - val_loss: 1.8264 - val_accuracy: 0.2286\n",
            "Epoch 2/70\n",
            "2/2 [==============================] - 2s 782ms/step - loss: 1.7237 - accuracy: 0.2903 - val_loss: 1.6830 - val_accuracy: 0.2571\n",
            "Epoch 3/70\n",
            "2/2 [==============================] - 2s 796ms/step - loss: 1.6235 - accuracy: 0.3355 - val_loss: 1.4707 - val_accuracy: 0.3714\n",
            "Epoch 4/70\n",
            "2/2 [==============================] - 1s 750ms/step - loss: 1.4677 - accuracy: 0.3935 - val_loss: 1.2766 - val_accuracy: 0.4857\n",
            "Epoch 5/70\n",
            "2/2 [==============================] - 2s 786ms/step - loss: 1.3340 - accuracy: 0.5032 - val_loss: 1.1618 - val_accuracy: 0.5429\n",
            "Epoch 6/70\n",
            "2/2 [==============================] - 2s 777ms/step - loss: 1.2762 - accuracy: 0.5032 - val_loss: 1.0915 - val_accuracy: 0.5714\n",
            "Epoch 7/70\n",
            "2/2 [==============================] - 2s 766ms/step - loss: 1.2065 - accuracy: 0.5161 - val_loss: 1.0266 - val_accuracy: 0.6000\n",
            "Epoch 8/70\n",
            "2/2 [==============================] - 2s 786ms/step - loss: 1.1433 - accuracy: 0.5742 - val_loss: 0.9751 - val_accuracy: 0.6000\n",
            "Epoch 9/70\n",
            "2/2 [==============================] - 2s 804ms/step - loss: 1.1805 - accuracy: 0.5097 - val_loss: 0.9138 - val_accuracy: 0.5714\n",
            "Epoch 10/70\n",
            "2/2 [==============================] - 2s 787ms/step - loss: 1.0455 - accuracy: 0.6065 - val_loss: 0.8620 - val_accuracy: 0.6000\n",
            "Epoch 11/70\n",
            "2/2 [==============================] - 2s 758ms/step - loss: 0.9997 - accuracy: 0.6387 - val_loss: 0.8107 - val_accuracy: 0.6000\n",
            "Epoch 12/70\n",
            "2/2 [==============================] - 2s 821ms/step - loss: 0.9563 - accuracy: 0.6452 - val_loss: 0.7828 - val_accuracy: 0.6286\n",
            "Epoch 13/70\n",
            "2/2 [==============================] - 2s 807ms/step - loss: 0.8749 - accuracy: 0.6968 - val_loss: 0.7662 - val_accuracy: 0.6286\n",
            "Epoch 14/70\n",
            "2/2 [==============================] - 1s 729ms/step - loss: 0.8794 - accuracy: 0.7161 - val_loss: 0.7548 - val_accuracy: 0.6571\n",
            "Epoch 15/70\n",
            "2/2 [==============================] - 1s 741ms/step - loss: 0.9190 - accuracy: 0.6903 - val_loss: 0.7029 - val_accuracy: 0.7143\n",
            "Epoch 16/70\n",
            "2/2 [==============================] - 2s 781ms/step - loss: 0.9263 - accuracy: 0.6581 - val_loss: 0.6520 - val_accuracy: 0.7143\n",
            "Epoch 17/70\n",
            "2/2 [==============================] - 2s 763ms/step - loss: 0.8302 - accuracy: 0.6774 - val_loss: 0.6303 - val_accuracy: 0.7143\n",
            "Epoch 18/70\n",
            "2/2 [==============================] - 2s 798ms/step - loss: 0.8477 - accuracy: 0.7032 - val_loss: 0.6212 - val_accuracy: 0.7429\n",
            "Epoch 19/70\n",
            "2/2 [==============================] - 2s 798ms/step - loss: 0.8176 - accuracy: 0.6839 - val_loss: 0.6185 - val_accuracy: 0.8000\n",
            "Epoch 20/70\n",
            "2/2 [==============================] - 2s 774ms/step - loss: 0.8088 - accuracy: 0.7097 - val_loss: 0.6098 - val_accuracy: 0.8286\n",
            "Epoch 21/70\n",
            "2/2 [==============================] - 2s 760ms/step - loss: 0.7276 - accuracy: 0.7613 - val_loss: 0.6009 - val_accuracy: 0.8286\n",
            "Epoch 22/70\n",
            "2/2 [==============================] - 2s 753ms/step - loss: 0.7463 - accuracy: 0.7290 - val_loss: 0.5755 - val_accuracy: 0.8286\n",
            "Epoch 23/70\n",
            "2/2 [==============================] - 2s 799ms/step - loss: 0.7497 - accuracy: 0.7290 - val_loss: 0.5436 - val_accuracy: 0.8286\n",
            "Epoch 24/70\n",
            "2/2 [==============================] - 2s 799ms/step - loss: 0.6920 - accuracy: 0.7742 - val_loss: 0.5220 - val_accuracy: 0.8571\n",
            "Epoch 25/70\n",
            "2/2 [==============================] - 2s 752ms/step - loss: 0.6693 - accuracy: 0.7871 - val_loss: 0.5115 - val_accuracy: 0.8571\n",
            "Epoch 26/70\n",
            "2/2 [==============================] - 2s 778ms/step - loss: 0.6992 - accuracy: 0.7548 - val_loss: 0.5163 - val_accuracy: 0.8286\n",
            "Epoch 27/70\n",
            "2/2 [==============================] - 2s 808ms/step - loss: 0.6600 - accuracy: 0.7935 - val_loss: 0.5418 - val_accuracy: 0.8000\n",
            "Epoch 28/70\n",
            "2/2 [==============================] - 2s 777ms/step - loss: 0.6595 - accuracy: 0.7613 - val_loss: 0.5710 - val_accuracy: 0.8000\n",
            "Epoch 29/70\n",
            "2/2 [==============================] - 2s 763ms/step - loss: 0.6403 - accuracy: 0.7548 - val_loss: 0.5764 - val_accuracy: 0.8000\n",
            "Epoch 30/70\n",
            "2/2 [==============================] - 2s 792ms/step - loss: 0.6626 - accuracy: 0.8000 - val_loss: 0.5474 - val_accuracy: 0.8571\n",
            "Epoch 31/70\n",
            "2/2 [==============================] - 2s 811ms/step - loss: 0.6284 - accuracy: 0.7871 - val_loss: 0.5119 - val_accuracy: 0.8571\n",
            "Epoch 32/70\n",
            "2/2 [==============================] - 2s 813ms/step - loss: 0.5572 - accuracy: 0.8000 - val_loss: 0.4961 - val_accuracy: 0.8571\n",
            "Epoch 33/70\n",
            "2/2 [==============================] - 2s 771ms/step - loss: 0.6320 - accuracy: 0.7677 - val_loss: 0.4909 - val_accuracy: 0.8286\n",
            "Epoch 34/70\n",
            "2/2 [==============================] - 2s 762ms/step - loss: 0.5893 - accuracy: 0.8258 - val_loss: 0.4889 - val_accuracy: 0.8286\n",
            "Epoch 35/70\n",
            "2/2 [==============================] - 2s 756ms/step - loss: 0.6349 - accuracy: 0.7548 - val_loss: 0.4831 - val_accuracy: 0.8571\n",
            "Epoch 36/70\n",
            "2/2 [==============================] - 2s 755ms/step - loss: 0.5732 - accuracy: 0.8000 - val_loss: 0.4958 - val_accuracy: 0.8286\n",
            "Epoch 37/70\n",
            "2/2 [==============================] - 2s 812ms/step - loss: 0.5541 - accuracy: 0.8387 - val_loss: 0.5071 - val_accuracy: 0.8286\n",
            "Epoch 38/70\n",
            "2/2 [==============================] - 2s 803ms/step - loss: 0.5688 - accuracy: 0.8000 - val_loss: 0.5168 - val_accuracy: 0.8571\n",
            "Epoch 39/70\n",
            "2/2 [==============================] - 2s 779ms/step - loss: 0.5406 - accuracy: 0.8065 - val_loss: 0.5094 - val_accuracy: 0.8286\n",
            "Epoch 40/70\n",
            "2/2 [==============================] - 2s 795ms/step - loss: 0.5168 - accuracy: 0.8452 - val_loss: 0.4905 - val_accuracy: 0.8571\n",
            "Epoch 41/70\n",
            "2/2 [==============================] - 2s 822ms/step - loss: 0.5004 - accuracy: 0.8645 - val_loss: 0.4788 - val_accuracy: 0.8571\n",
            "Epoch 42/70\n",
            "2/2 [==============================] - 2s 829ms/step - loss: 0.4505 - accuracy: 0.8452 - val_loss: 0.4802 - val_accuracy: 0.8571\n",
            "Epoch 43/70\n",
            "2/2 [==============================] - 2s 831ms/step - loss: 0.5600 - accuracy: 0.8194 - val_loss: 0.4934 - val_accuracy: 0.8286\n",
            "Epoch 44/70\n",
            "2/2 [==============================] - 2s 774ms/step - loss: 0.5549 - accuracy: 0.7935 - val_loss: 0.5027 - val_accuracy: 0.8286\n",
            "Epoch 45/70\n",
            "2/2 [==============================] - 2s 803ms/step - loss: 0.5374 - accuracy: 0.8065 - val_loss: 0.4964 - val_accuracy: 0.8286\n",
            "Epoch 46/70\n",
            "2/2 [==============================] - 2s 809ms/step - loss: 0.5279 - accuracy: 0.8387 - val_loss: 0.4880 - val_accuracy: 0.8286\n",
            "Epoch 47/70\n",
            "2/2 [==============================] - 2s 808ms/step - loss: 0.5043 - accuracy: 0.8323 - val_loss: 0.4770 - val_accuracy: 0.8000\n",
            "Epoch 48/70\n",
            "2/2 [==============================] - 2s 790ms/step - loss: 0.4859 - accuracy: 0.8645 - val_loss: 0.4816 - val_accuracy: 0.8000\n",
            "Epoch 49/70\n",
            "2/2 [==============================] - 2s 780ms/step - loss: 0.5185 - accuracy: 0.8452 - val_loss: 0.4830 - val_accuracy: 0.8000\n",
            "Epoch 50/70\n",
            "2/2 [==============================] - 2s 812ms/step - loss: 0.4994 - accuracy: 0.8258 - val_loss: 0.4758 - val_accuracy: 0.8000\n",
            "Epoch 51/70\n",
            "2/2 [==============================] - 2s 782ms/step - loss: 0.4398 - accuracy: 0.9032 - val_loss: 0.4871 - val_accuracy: 0.8000\n",
            "Epoch 52/70\n",
            "2/2 [==============================] - 2s 819ms/step - loss: 0.4392 - accuracy: 0.8645 - val_loss: 0.4990 - val_accuracy: 0.8000\n",
            "Epoch 53/70\n",
            "2/2 [==============================] - 2s 807ms/step - loss: 0.4302 - accuracy: 0.8774 - val_loss: 0.4858 - val_accuracy: 0.8000\n",
            "Epoch 54/70\n",
            "2/2 [==============================] - 2s 795ms/step - loss: 0.5253 - accuracy: 0.7871 - val_loss: 0.4510 - val_accuracy: 0.8286\n",
            "Epoch 55/70\n",
            "2/2 [==============================] - 2s 780ms/step - loss: 0.4502 - accuracy: 0.8323 - val_loss: 0.4365 - val_accuracy: 0.8571\n",
            "Epoch 56/70\n",
            "2/2 [==============================] - 2s 793ms/step - loss: 0.4433 - accuracy: 0.8645 - val_loss: 0.4389 - val_accuracy: 0.8571\n",
            "Epoch 57/70\n",
            "2/2 [==============================] - 2s 756ms/step - loss: 0.4913 - accuracy: 0.8387 - val_loss: 0.4660 - val_accuracy: 0.8286\n",
            "Epoch 58/70\n",
            "2/2 [==============================] - 2s 795ms/step - loss: 0.4079 - accuracy: 0.8774 - val_loss: 0.4999 - val_accuracy: 0.8286\n",
            "Epoch 59/70\n",
            "2/2 [==============================] - 2s 803ms/step - loss: 0.5193 - accuracy: 0.8323 - val_loss: 0.4897 - val_accuracy: 0.8286\n",
            "Epoch 60/70\n",
            "2/2 [==============================] - 2s 796ms/step - loss: 0.4558 - accuracy: 0.8452 - val_loss: 0.4514 - val_accuracy: 0.8857\n",
            "Epoch 61/70\n",
            "2/2 [==============================] - 2s 785ms/step - loss: 0.4450 - accuracy: 0.8968 - val_loss: 0.4178 - val_accuracy: 0.9143\n",
            "Epoch 62/70\n",
            "2/2 [==============================] - 2s 807ms/step - loss: 0.4348 - accuracy: 0.8774 - val_loss: 0.4054 - val_accuracy: 0.9143\n",
            "Epoch 63/70\n",
            "2/2 [==============================] - 2s 798ms/step - loss: 0.4956 - accuracy: 0.8258 - val_loss: 0.4157 - val_accuracy: 0.9143\n",
            "Epoch 64/70\n",
            "2/2 [==============================] - 2s 808ms/step - loss: 0.4239 - accuracy: 0.8581 - val_loss: 0.4455 - val_accuracy: 0.8286\n",
            "Epoch 65/70\n",
            "2/2 [==============================] - 2s 831ms/step - loss: 0.5035 - accuracy: 0.8258 - val_loss: 0.4465 - val_accuracy: 0.8571\n",
            "Epoch 66/70\n",
            "2/2 [==============================] - 2s 793ms/step - loss: 0.4289 - accuracy: 0.8452 - val_loss: 0.4420 - val_accuracy: 0.8571\n",
            "Epoch 67/70\n",
            "2/2 [==============================] - 2s 816ms/step - loss: 0.4298 - accuracy: 0.8581 - val_loss: 0.4412 - val_accuracy: 0.8571\n",
            "Epoch 68/70\n",
            "2/2 [==============================] - 2s 793ms/step - loss: 0.4004 - accuracy: 0.8903 - val_loss: 0.4341 - val_accuracy: 0.8857\n",
            "Epoch 69/70\n",
            "2/2 [==============================] - 2s 803ms/step - loss: 0.3834 - accuracy: 0.8968 - val_loss: 0.4206 - val_accuracy: 0.8857\n",
            "Epoch 70/70\n",
            "2/2 [==============================] - 1s 742ms/step - loss: 0.4710 - accuracy: 0.8194 - val_loss: 0.4172 - val_accuracy: 0.8857\n"
          ],
          "name": "stdout"
        }
      ]
    },
    {
      "cell_type": "code",
      "metadata": {
        "id": "OjvCGpAp8Ilm",
        "colab_type": "code",
        "colab": {}
      },
      "source": [
        "model.save('face-recogition-colab.h5')"
      ],
      "execution_count": 0,
      "outputs": []
    },
    {
      "cell_type": "code",
      "metadata": {
        "id": "QOuZtuQJ8Ilo",
        "colab_type": "code",
        "colab": {
          "base_uri": "https://localhost:8080/",
          "height": 499
        },
        "outputId": "af78ee2c-9704-4192-bf51-2f06fff6e85a"
      },
      "source": [
        "acc = history.history['accuracy']\n",
        "val_acc = history.history['val_accuracy']\n",
        "\n",
        "loss = history.history['loss']\n",
        "val_loss = history.history['val_loss']\n",
        "\n",
        "epochs_range = range(EPOCHS)\n",
        "\n",
        "plt.figure(figsize=(8, 8))\n",
        "plt.subplot(1, 2, 1)\n",
        "plt.plot(epochs_range, acc, label='Training Accuracy')\n",
        "plt.plot(epochs_range, val_acc, label='Validation Accuracy')\n",
        "plt.legend(loc='lower right')\n",
        "plt.title('Training and Validation Accuracy')\n",
        "\n",
        "plt.subplot(1, 2, 2)\n",
        "plt.plot(epochs_range, loss, label='Training Loss')\n",
        "plt.plot(epochs_range, val_loss, label='Validation Loss')\n",
        "plt.legend(loc='upper right')\n",
        "plt.title('Training and Validation Loss')\n",
        "plt.savefig('./foo-colab.png')\n",
        "plt.show()"
      ],
      "execution_count": 80,
      "outputs": [
        {
          "output_type": "display_data",
          "data": {
            "image/png": "[encoded data removed]",
            "text/plain": [
              "<Figure size 576x576 with 2 Axes>"
            ]
          },
          "metadata": {
            "tags": [],
            "needs_background": "light"
          }
        }
      ]
    },
    {
      "cell_type": "code",
      "metadata": {
        "id": "D52Bo-yE8Ilr",
        "colab_type": "code",
        "colab": {
          "base_uri": "https://localhost:8080/",
          "height": 225
        },
        "outputId": "133b995d-6c4d-402f-a8da-eadefe33c6ec"
      },
      "source": [
        "#model = load_model('keras.h5')\n",
        "model = tf.keras.models.load_model('face-recogition-colab.h5',custom_objects={'KerasLayer':hub.KerasLayer})\n",
        "model.summary()"
      ],
      "execution_count": 81,
      "outputs": [
        {
          "output_type": "stream",
          "text": [
            "Model: \"sequential_2\"\n",
            "_________________________________________________________________\n",
            "Layer (type)                 Output Shape              Param #   \n",
            "=================================================================\n",
            "keras_layer_2 (KerasLayer)   (None, 1001)              55875273  \n",
            "_________________________________________________________________\n",
            "dense_2 (Dense)              (None, 7)                 7014      \n",
            "=================================================================\n",
            "Total params: 55,882,287\n",
            "Trainable params: 7,014\n",
            "Non-trainable params: 55,875,273\n",
            "_________________________________________________________________\n"
          ],
          "name": "stdout"
        }
      ]
    },
    {
      "cell_type": "code",
      "metadata": {
        "id": "cMYZTjn78Ilt",
        "colab_type": "code",
        "colab": {}
      },
      "source": [
        ""
      ],
      "execution_count": 0,
      "outputs": []
    }
  ]
}