{
 "cells": [
  {
   "cell_type": "code",
   "execution_count": 26,
   "metadata": {},
   "outputs": [],
   "source": [
    "import tensorflow as tf\n",
    "import matplotlib.pyplot as plt\n",
    "import tensorflow_hub as  hub\n",
    "import tensorflow_datasets as tfds\n",
    "import  numpy as np\n",
    "import mtcnn\n",
    "from mtcnn import MTCNN\n",
    "import PIL\n",
    "from PIL import Image\n",
    "import pandas as pd\n",
    "from IPython.display import display\n",
    "import os\n",
    "import matplotlib.pyplot as pyplot\n",
    "from tensorflow.keras import layers\n",
    "from tensorflow.keras.preprocessing.image import ImageDataGenerator\n",
    "from keras.models import load_model\n",
    "import time\n",
    "import joblib"
   ]
  },
  {
   "cell_type": "code",
   "execution_count": 2,
   "metadata": {
    "scrolled": true
   },
   "outputs": [
    {
     "name": "stdout",
     "output_type": "stream",
     "text": [
      "Model: \"sequential\"\n",
      "_________________________________________________________________\n",
      "Layer (type)                 Output Shape              Param #   \n",
      "=================================================================\n",
      "keras_layer (KerasLayer)     (None, 1001)              55875273  \n",
      "_________________________________________________________________\n",
      "dense (Dense)                (None, 7)                 7014      \n",
      "=================================================================\n",
      "Total params: 55,882,287\n",
      "Trainable params: 7,014\n",
      "Non-trainable params: 55,875,273\n",
      "_________________________________________________________________\n"
     ]
    }
   ],
   "source": [
    "model = tf.keras.models.load_model('../Transfer learning/face-recogition-colab.h5',custom_objects={'KerasLayer':hub.KerasLayer})\n",
    "model.summary()"
   ]
  },
  {
   "cell_type": "code",
   "execution_count": 3,
   "metadata": {},
   "outputs": [],
   "source": [
    "detector = MTCNN()"
   ]
  },
  {
   "cell_type": "code",
   "execution_count": 27,
   "metadata": {},
   "outputs": [],
   "source": [
    "names = joblib.load('../Training Data Creation/label.pkl')"
   ]
  },
  {
   "cell_type": "code",
   "execution_count": 19,
   "metadata": {},
   "outputs": [],
   "source": [
    "def predict_face(model, filename, detector):\n",
    "    image = Image.open(filename)\n",
    "    #Convert the file to RGB\n",
    "    image = image.convert('RGB')\n",
    "    #Convert the File to Numpy array to be machine readable\n",
    "    pixels = np.asarray(image)\n",
    "    \n",
    "    #Extracting Face embeddings from the Photo\n",
    "    result = detector.detect_faces(pixels)\n",
    "\n",
    "    x1, y1, width, height = result[0]['box']\n",
    "    x1, y1 = abs(x1) , abs(y1)\n",
    "    x2, y2 = abs(x1) + width , abs(y1) + height \n",
    "    face = pixels[y1:y2, x1:x2]\n",
    "    image = Image.fromarray(face)\n",
    "    image = image.resize((299,299))\n",
    "    face_array = np.asarray(image)\n",
    "    #face_pixels = face_array.astype('float32')\n",
    "    #mean, std = face_pixels.mean(), face_pixels.std()\n",
    "    #face_pixels  = (face_pixels - mean)/std\n",
    "    face_pixels  = face_array / 255\n",
    "    samples = np.expand_dims(face_pixels, axis = 0)\n",
    "    prediction = model.predict(samples)\n",
    "    return prediction[0]"
   ]
  },
  {
   "cell_type": "code",
   "execution_count": 62,
   "metadata": {},
   "outputs": [],
   "source": [
    "filename = ('../data/test/Madonna.jpg')\n",
    "prediction = predict_face(model, filename,detector)"
   ]
  },
  {
   "cell_type": "code",
   "execution_count": 63,
   "metadata": {},
   "outputs": [
    {
     "data": {
      "text/plain": [
       "'Madonna'"
      ]
     },
     "execution_count": 63,
     "metadata": {},
     "output_type": "execute_result"
    }
   ],
   "source": [
    "predict = dict(zip(names, prediction))\n",
    "predict_reverse = dict(zip(prediction, names))\n",
    "predict_reverse[max(predict.values())]"
   ]
  },
  {
   "cell_type": "code",
   "execution_count": null,
   "metadata": {},
   "outputs": [],
   "source": []
  }
 ],
 "metadata": {
  "kernelspec": {
   "display_name": "Python 3",
   "language": "python",
   "name": "python3"
  },
  "language_info": {
   "codemirror_mode": {
    "name": "ipython",
    "version": 3
   },
   "file_extension": ".py",
   "mimetype": "text/x-python",
   "name": "python",
   "nbconvert_exporter": "python",
   "pygments_lexer": "ipython3",
   "version": "3.7.7"
  }
 },
 "nbformat": 4,
 "nbformat_minor": 4
}
